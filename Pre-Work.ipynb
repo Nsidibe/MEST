{
 "cells": [
  {
   "cell_type": "markdown",
   "metadata": {
    "colab_type": "text",
    "id": "XCG3PWNv4b7-"
   },
   "source": [
    "# MEST Pre-Work"
   ]
  },
  {
   "cell_type": "markdown",
   "metadata": {
    "colab_type": "text",
    "id": "Rh8HCNQP4hnZ"
   },
   "source": [
    "## Morning Session\n",
    "### Jupyter Notebooks\n",
    "* Google Colaboratory\n",
    "* Azure Notebooks\n",
    "* Google Datalab\n",
    "* AWS"
   ]
  },
  {
   "cell_type": "markdown",
   "metadata": {
    "colab_type": "text",
    "id": "1Iglw86vALe6"
   },
   "source": [
    "### Jupyter Notebooks\n",
    "* Interactive Programming Environment\n",
    "* Support for Julia, Python, R\n",
    "* Available here: https://jupyter.org/\n",
    "* Popular distribution is Anaconda: https://www.anaconda.com/"
   ]
  },
  {
   "cell_type": "markdown",
   "metadata": {
    "colab_type": "text",
    "id": "wG3Y6ccrf7Jq"
   },
   "source": [
    "### Google Colaboratory\n",
    "* Hosted by Google as a free instance\n",
    "* No need for installation\n",
    "* Makes collaboration easy\n",
    "* Provides GPU (and TPU) on-demand\n",
    "* Limits available memory\n",
    "* Resets virtual machine when not in use\n",
    "* Available at: https://colab.research.google.com/"
   ]
  },
  {
   "cell_type": "markdown",
   "metadata": {
    "colab_type": "text",
    "id": "4pwOjR8tgfp1"
   },
   "source": [
    "### Azure Notebooks\n",
    "* Hosted by Microsoft as a free instance\n",
    "* Available at: https://notebooks.azure.com/"
   ]
  },
  {
   "cell_type": "markdown",
   "metadata": {
    "colab_type": "text",
    "id": "CzpEuf7Jh-R3"
   },
   "source": [
    "### Google Datalab\n",
    "* Provided by Google as a paid service\n",
    "* Provides a virtual machine with Jupyter Labs pre-installed\n",
    "* Can configure number of processors and RAM\n",
    "* Can configure GPU and TPU instances"
   ]
  },
  {
   "cell_type": "markdown",
   "metadata": {
    "colab_type": "text",
    "id": "VBYn9nazivor"
   },
   "source": [
    "### Amazon SageMaker Notebooks\n",
    "* Provided by Amazon as a paid service\n",
    "* Available as part of AWS"
   ]
  },
  {
   "cell_type": "markdown",
   "metadata": {
    "colab_type": "text",
    "id": "MkI_Egiy4zVh"
   },
   "source": [
    "## Afternoon Session\n",
    "### Introduction to Python Programming\n",
    "* Functions\n",
    "* Classes\n",
    "* Operators"
   ]
  },
  {
   "cell_type": "markdown",
   "metadata": {
    "colab_type": "text",
    "id": "GKJ9TTDNkFLY"
   },
   "source": [
    "__Python Variables__"
   ]
  },
  {
   "cell_type": "code",
   "execution_count": 0,
   "metadata": {
    "colab": {
     "base_uri": "https://localhost:8080/",
     "height": 34
    },
    "colab_type": "code",
    "id": "xbIphCYD4Yot",
    "outputId": "0b8cefc4-f51a-4a6e-b3f9-12c46321992c"
   },
   "outputs": [
    {
     "name": "stdout",
     "output_type": "stream",
     "text": [
      "<class 'int'>\n"
     ]
    }
   ],
   "source": [
    "a = 1\n",
    "print(type(a))"
   ]
  },
  {
   "cell_type": "code",
   "execution_count": 0,
   "metadata": {
    "colab": {
     "base_uri": "https://localhost:8080/",
     "height": 34
    },
    "colab_type": "code",
    "id": "TzGsQzbkkMW_",
    "outputId": "b8aae217-f6bb-46e6-fcc4-5ab8ab850d13"
   },
   "outputs": [
    {
     "name": "stdout",
     "output_type": "stream",
     "text": [
      "<class 'float'>\n"
     ]
    }
   ],
   "source": [
    "b = 2.0\n",
    "print(type(b))"
   ]
  },
  {
   "cell_type": "code",
   "execution_count": 0,
   "metadata": {
    "colab": {
     "base_uri": "https://localhost:8080/",
     "height": 34
    },
    "colab_type": "code",
    "id": "y3EC98xAkT43",
    "outputId": "b0a2b986-8668-49c0-fd02-40da1dead652"
   },
   "outputs": [
    {
     "name": "stdout",
     "output_type": "stream",
     "text": [
      "<class 'str'>\n"
     ]
    }
   ],
   "source": [
    "c = 'hello'\n",
    "print(type(c))"
   ]
  },
  {
   "cell_type": "code",
   "execution_count": 0,
   "metadata": {
    "colab": {
     "base_uri": "https://localhost:8080/",
     "height": 34
    },
    "colab_type": "code",
    "id": "rI9hJISDkxpr",
    "outputId": "4437400a-3007-46a6-d134-ce46181cec43"
   },
   "outputs": [
    {
     "name": "stdout",
     "output_type": "stream",
     "text": [
      "<class 'float'>\n"
     ]
    }
   ],
   "source": [
    "print(type(a + 0.0))"
   ]
  },
  {
   "cell_type": "code",
   "execution_count": 0,
   "metadata": {
    "colab": {},
    "colab_type": "code",
    "id": "0wF0nfXsk7Mc"
   },
   "outputs": [],
   "source": [
    "print('the value of a is {}'.format(a))"
   ]
  },
  {
   "cell_type": "code",
   "execution_count": 0,
   "metadata": {
    "colab": {
     "base_uri": "https://localhost:8080/",
     "height": 34
    },
    "colab_type": "code",
    "id": "2tE8tpXckNsQ",
    "outputId": "d715ff5c-9960-484e-c1c1-0fac4aaa3acd"
   },
   "outputs": [
    {
     "name": "stdout",
     "output_type": "stream",
     "text": [
      "2\n"
     ]
    }
   ],
   "source": [
    "# modulo\n",
    "print(20 % 3)"
   ]
  },
  {
   "cell_type": "code",
   "execution_count": 0,
   "metadata": {
    "colab": {
     "base_uri": "https://localhost:8080/",
     "height": 34
    },
    "colab_type": "code",
    "id": "P3DZNxEJkabu",
    "outputId": "5e433edf-0884-47f5-a6d7-9d35e021b10c"
   },
   "outputs": [
    {
     "name": "stdout",
     "output_type": "stream",
     "text": [
      "27\n"
     ]
    }
   ],
   "source": [
    "# exponential\n",
    "print(3 ** 3)"
   ]
  },
  {
   "cell_type": "code",
   "execution_count": 0,
   "metadata": {
    "colab": {
     "base_uri": "https://localhost:8080/",
     "height": 34
    },
    "colab_type": "code",
    "id": "1X_MbjzfkvX6",
    "outputId": "0b6a87f4-d6ea-4307-8bd5-1c091e2a0243"
   },
   "outputs": [
    {
     "name": "stdout",
     "output_type": "stream",
     "text": [
      "13\n"
     ]
    }
   ],
   "source": [
    "print(40 // 3)"
   ]
  },
  {
   "cell_type": "markdown",
   "metadata": {
    "colab_type": "text",
    "id": "9prAiZurlKPz"
   },
   "source": [
    "__Conditionals__"
   ]
  },
  {
   "cell_type": "code",
   "execution_count": 0,
   "metadata": {
    "colab": {},
    "colab_type": "code",
    "id": "iXuVxPfPlNSP"
   },
   "outputs": [],
   "source": [
    "# Equal to\n",
    "x = 40 % 3\n",
    "if x == 2:\n",
    "  print('1 remains')"
   ]
  },
  {
   "cell_type": "code",
   "execution_count": 0,
   "metadata": {
    "colab": {
     "base_uri": "https://localhost:8080/",
     "height": 34
    },
    "colab_type": "code",
    "id": "KCq02JUQlX0a",
    "outputId": "e0ee9863-fd46-4ecc-e668-6eafc82f35c6"
   },
   "outputs": [
    {
     "name": "stdout",
     "output_type": "stream",
     "text": [
      "not equal to 2\n"
     ]
    }
   ],
   "source": [
    "# Not Equal to\n",
    "if a != 2:\n",
    "  print('not equal to 2')"
   ]
  },
  {
   "cell_type": "code",
   "execution_count": 0,
   "metadata": {
    "colab": {},
    "colab_type": "code",
    "id": "sQikFhIflgjb"
   },
   "outputs": [],
   "source": [
    "# Greater than\n",
    "if a > 1:\n",
    "  print('satisfied')"
   ]
  },
  {
   "cell_type": "code",
   "execution_count": 0,
   "metadata": {
    "colab": {
     "base_uri": "https://localhost:8080/",
     "height": 34
    },
    "colab_type": "code",
    "id": "IsqXyEqIlm56",
    "outputId": "517c7f21-5223-42af-e156-ca1123535118"
   },
   "outputs": [
    {
     "name": "stdout",
     "output_type": "stream",
     "text": [
      "condition satisfied\n"
     ]
    }
   ],
   "source": [
    "# Greater than or equal to\n",
    "if a >= 1:\n",
    "  print('condition satisfied')"
   ]
  },
  {
   "cell_type": "code",
   "execution_count": 0,
   "metadata": {
    "colab": {
     "base_uri": "https://localhost:8080/",
     "height": 34
    },
    "colab_type": "code",
    "id": "LHiaR3GhluDj",
    "outputId": "15b8a12d-cf0a-493e-8bd0-d55862f8c3d0"
   },
   "outputs": [
    {
     "name": "stdout",
     "output_type": "stream",
     "text": [
      "satisfied\n"
     ]
    }
   ],
   "source": [
    "# Less than\n",
    "if a < 2:\n",
    "  print('satisfied')"
   ]
  },
  {
   "cell_type": "code",
   "execution_count": 0,
   "metadata": {
    "colab": {
     "base_uri": "https://localhost:8080/",
     "height": 34
    },
    "colab_type": "code",
    "id": "24uw4PlYl345",
    "outputId": "1d77dc42-dc75-4bd7-d809-ebdeb01400ed"
   },
   "outputs": [
    {
     "name": "stdout",
     "output_type": "stream",
     "text": [
      "satisfied\n"
     ]
    }
   ],
   "source": [
    "# Less than or equal to\n",
    "if a <= 2:\n",
    "  print('satisfied')"
   ]
  },
  {
   "cell_type": "code",
   "execution_count": 0,
   "metadata": {
    "colab": {},
    "colab_type": "code",
    "id": "TGtnILgjmAJe"
   },
   "outputs": [],
   "source": [
    "if a == 2:\n",
    "  print('2')\n",
    "elif a == 1:\n",
    "  print('1')\n",
    "else:\n",
    "  print('neither')"
   ]
  },
  {
   "cell_type": "code",
   "execution_count": 0,
   "metadata": {
    "colab": {
     "base_uri": "https://localhost:8080/",
     "height": 34
    },
    "colab_type": "code",
    "id": "iK6OX3Y_mpZH",
    "outputId": "eb1b526f-13f0-46d3-81fd-d284c97208c4"
   },
   "outputs": [
    {
     "name": "stdout",
     "output_type": "stream",
     "text": [
      "2\n"
     ]
    }
   ],
   "source": [
    "a = 0\n",
    "if 20%3 == 1:\n",
    "  a = 1\n",
    "else:\n",
    "  a = 2\n",
    "print(a)"
   ]
  },
  {
   "cell_type": "code",
   "execution_count": 0,
   "metadata": {
    "colab": {
     "base_uri": "https://localhost:8080/",
     "height": 130
    },
    "colab_type": "code",
    "id": "fL9_JzCtm32_",
    "outputId": "fae1b465-6127-4496-9521-6f73c8f81883"
   },
   "outputs": [
    {
     "ename": "SyntaxError",
     "evalue": "ignored",
     "output_type": "error",
     "traceback": [
      "\u001b[0;36m  File \u001b[0;32m\"<ipython-input-25-016f0381db26>\"\u001b[0;36m, line \u001b[0;32m3\u001b[0m\n\u001b[0;31m    a = (x == y) ? 1 : 2\u001b[0m\n\u001b[0m                 ^\u001b[0m\n\u001b[0;31mSyntaxError\u001b[0m\u001b[0;31m:\u001b[0m invalid syntax\n"
     ]
    }
   ],
   "source": [
    "x = 2\n",
    "y = 3\n",
    "a = (x == y) ? 1 : 2"
   ]
  },
  {
   "cell_type": "code",
   "execution_count": 0,
   "metadata": {
    "colab": {
     "base_uri": "https://localhost:8080/",
     "height": 130
    },
    "colab_type": "code",
    "id": "7xaaNtpJnXdm",
    "outputId": "a15ad975-6bd4-4150-82b7-e40826af98ec"
   },
   "outputs": [
    {
     "ename": "SyntaxError",
     "evalue": "ignored",
     "output_type": "error",
     "traceback": [
      "\u001b[0;36m  File \u001b[0;32m\"<ipython-input-22-29e3d7d5bfbf>\"\u001b[0;36m, line \u001b[0;32m2\u001b[0m\n\u001b[0;31m    if x = 2:\u001b[0m\n\u001b[0m         ^\u001b[0m\n\u001b[0;31mSyntaxError\u001b[0m\u001b[0;31m:\u001b[0m invalid syntax\n"
     ]
    }
   ],
   "source": [
    "try:\n",
    "  if x = 2:\n",
    "    print('2')\n",
    "except:\n",
    "  print('something went wrong')"
   ]
  },
  {
   "cell_type": "markdown",
   "metadata": {
    "colab_type": "text",
    "id": "Ux5DhUIsmVei"
   },
   "source": [
    "__Loops__"
   ]
  },
  {
   "cell_type": "code",
   "execution_count": 0,
   "metadata": {
    "colab": {
     "base_uri": "https://localhost:8080/",
     "height": 103
    },
    "colab_type": "code",
    "id": "66McK2a6mZwu",
    "outputId": "9bf27e79-6941-4415-a388-3d74c67bedb8"
   },
   "outputs": [
    {
     "name": "stdout",
     "output_type": "stream",
     "text": [
      "2\n",
      "5\n",
      "8\n",
      "11\n",
      "14\n"
     ]
    }
   ],
   "source": [
    "# do this n times\n",
    "n = 15\n",
    "#[2,15)\n",
    "for i in range(2, n, 3):\n",
    "  print(i)\n",
    "  \n",
    "# in what other ways can we make use of range?"
   ]
  },
  {
   "cell_type": "code",
   "execution_count": 0,
   "metadata": {
    "colab": {
     "base_uri": "https://localhost:8080/",
     "height": 34
    },
    "colab_type": "code",
    "id": "d_D24c1orG20",
    "outputId": "9838af2f-761b-4bcf-dfee-20964aaf7674"
   },
   "outputs": [
    {
     "name": "stdout",
     "output_type": "stream",
     "text": [
      "range(0, 5)\n"
     ]
    }
   ],
   "source": [
    "_range = range(5)\n",
    "print(_range)"
   ]
  },
  {
   "cell_type": "code",
   "execution_count": 0,
   "metadata": {
    "colab": {
     "base_uri": "https://localhost:8080/",
     "height": 103
    },
    "colab_type": "code",
    "id": "K0n9maSypTiQ",
    "outputId": "e1093091-eaab-4516-d493-500aa69752ad"
   },
   "outputs": [
    {
     "name": "stdout",
     "output_type": "stream",
     "text": [
      "1\n",
      "3\n",
      "5\n",
      "7\n",
      "9\n"
     ]
    }
   ],
   "source": [
    "# do this n times\n",
    "n = 10\n",
    "for i in range(1, n, 2):\n",
    "  print(i)\n",
    "  \n",
    "# in what other ways can we make use of range?"
   ]
  },
  {
   "cell_type": "code",
   "execution_count": 0,
   "metadata": {
    "colab": {
     "base_uri": "https://localhost:8080/",
     "height": 103
    },
    "colab_type": "code",
    "id": "MNgT-mF-pbH-",
    "outputId": "0c2213c4-959c-49d0-8fe6-b125edcbd498"
   },
   "outputs": [
    {
     "name": "stdout",
     "output_type": "stream",
     "text": [
      "10\n",
      "8\n",
      "6\n",
      "4\n",
      "2\n"
     ]
    }
   ],
   "source": [
    "# do this n times\n",
    "n = 10\n",
    "for i in range(n, 0, -2):\n",
    "  print(i)\n",
    "  \n",
    "# in what other ways can we make use of range?"
   ]
  },
  {
   "cell_type": "code",
   "execution_count": 0,
   "metadata": {
    "colab": {
     "base_uri": "https://localhost:8080/",
     "height": 103
    },
    "colab_type": "code",
    "id": "sSUvV-QrmwGS",
    "outputId": "36cf13df-5e50-422e-eb06-5af568ce0714"
   },
   "outputs": [
    {
     "name": "stdout",
     "output_type": "stream",
     "text": [
      "5\n",
      "4\n",
      "3\n",
      "2\n",
      "1\n"
     ]
    }
   ],
   "source": [
    "# do this as long as a condition is true\n",
    "n = 5\n",
    "while n > 0:\n",
    "  print(n)\n",
    "  n = n - 1"
   ]
  },
  {
   "cell_type": "markdown",
   "metadata": {
    "colab_type": "text",
    "id": "QKNFFXPinDUk"
   },
   "source": [
    "__Some shortcuts__"
   ]
  },
  {
   "cell_type": "code",
   "execution_count": 0,
   "metadata": {
    "colab": {
     "base_uri": "https://localhost:8080/",
     "height": 51
    },
    "colab_type": "code",
    "id": "ONFJNaJ1nGUF",
    "outputId": "2594cf12-ef51-469d-a859-6cb298ef2a25"
   },
   "outputs": [
    {
     "name": "stdout",
     "output_type": "stream",
     "text": [
      "5\n",
      "5\n"
     ]
    }
   ],
   "source": [
    "n = 2\n",
    "n = n + 3\n",
    "print(n)\n",
    "\n",
    "n = 2\n",
    "n += 3\n",
    "print(n)"
   ]
  },
  {
   "cell_type": "code",
   "execution_count": 0,
   "metadata": {
    "colab": {
     "base_uri": "https://localhost:8080/",
     "height": 34
    },
    "colab_type": "code",
    "id": "3aNJ0-FHqP7O",
    "outputId": "aab33ce2-a691-46b0-a4ca-4cd15f9c1663"
   },
   "outputs": [
    {
     "name": "stdout",
     "output_type": "stream",
     "text": [
      "21\n"
     ]
    }
   ],
   "source": [
    "n = 3\n",
    "n *= 7\n",
    "print(n)"
   ]
  },
  {
   "cell_type": "markdown",
   "metadata": {
    "colab_type": "text",
    "id": "QiE0tnc4h4wf"
   },
   "source": [
    "### Functions - making things repeatable"
   ]
  },
  {
   "cell_type": "code",
   "execution_count": 0,
   "metadata": {
    "colab": {},
    "colab_type": "code",
    "id": "0_jpRGbBh8D3"
   },
   "outputs": [],
   "source": []
  },
  {
   "cell_type": "markdown",
   "metadata": {
    "colab_type": "text",
    "id": "I7W38Bf9tD0A"
   },
   "source": [
    "$f(x) = x + 2$"
   ]
  },
  {
   "cell_type": "code",
   "execution_count": 0,
   "metadata": {
    "colab": {
     "base_uri": "https://localhost:8080/",
     "height": 68
    },
    "colab_type": "code",
    "id": "kjA8SBqEtHUf",
    "outputId": "40d9830f-9c94-4fcc-ffc5-e5750f25b193"
   },
   "outputs": [
    {
     "name": "stdout",
     "output_type": "stream",
     "text": [
      "9\n",
      "330\n",
      "21\n"
     ]
    }
   ],
   "source": [
    "a1 = 7\n",
    "a2 = 332\n",
    "a3 = 19\n",
    "\n",
    "print(a1 + 2)\n",
    "print(a2 - 2)\n",
    "print(a3 + 2)"
   ]
  },
  {
   "cell_type": "code",
   "execution_count": 0,
   "metadata": {
    "colab": {},
    "colab_type": "code",
    "id": "BaatxfBptU4k"
   },
   "outputs": [],
   "source": [
    "def add_2(x):\n",
    "  return x + 2"
   ]
  },
  {
   "cell_type": "code",
   "execution_count": 0,
   "metadata": {
    "colab": {
     "base_uri": "https://localhost:8080/",
     "height": 68
    },
    "colab_type": "code",
    "id": "cFAeGCfstkjO",
    "outputId": "b6d5b3cd-8fa0-4f10-a932-7b99d2e6ae0b"
   },
   "outputs": [
    {
     "name": "stdout",
     "output_type": "stream",
     "text": [
      "9\n",
      "334\n",
      "21\n"
     ]
    }
   ],
   "source": [
    "print(add_2(a1))\n",
    "print(add_2(a2))\n",
    "print(add_2(a3))"
   ]
  },
  {
   "cell_type": "code",
   "execution_count": 0,
   "metadata": {
    "colab": {},
    "colab_type": "code",
    "id": "q_NQ65LItugr"
   },
   "outputs": [],
   "source": []
  },
  {
   "cell_type": "markdown",
   "metadata": {
    "colab_type": "text",
    "id": "d4lFnDPnu3Fm"
   },
   "source": [
    "# Fibonnacci Sequence\n",
    "\n",
    "$f_1 = 0$\n",
    "\n",
    "$f_2 = 1$\n",
    "\n",
    "$f_n = f_{n-1} + f_{n-2}$\n",
    "\n",
    "0 1 1 2 3 5 8 13 ..."
   ]
  },
  {
   "cell_type": "code",
   "execution_count": 0,
   "metadata": {
    "colab": {},
    "colab_type": "code",
    "id": "n0uc5QdGvIFI"
   },
   "outputs": [],
   "source": [
    "def fib_2(x):\n",
    "  x0 = 0\n",
    "  x1 = 1\n",
    "  x2 = 1\n",
    "  for i in range(x):\n",
    "    x0 = x1\n",
    "    x1 = x2\n",
    "    x2 = x0 + x1\n",
    "  return x2"
   ]
  },
  {
   "cell_type": "code",
   "execution_count": 0,
   "metadata": {
    "colab": {},
    "colab_type": "code",
    "id": "vV7H92zU2BE2"
   },
   "outputs": [],
   "source": [
    "def my_abs(x):\n",
    "  if x < 0:\n",
    "    return x * -1\n",
    "  return x"
   ]
  },
  {
   "cell_type": "code",
   "execution_count": 0,
   "metadata": {
    "colab": {
     "base_uri": "https://localhost:8080/",
     "height": 34
    },
    "colab_type": "code",
    "id": "dE7hoPjH2Lsj",
    "outputId": "46cb7320-22df-491e-a81b-ba53ddead602"
   },
   "outputs": [
    {
     "name": "stdout",
     "output_type": "stream",
     "text": [
      "9\n"
     ]
    }
   ],
   "source": [
    "print(my_abs(-9))"
   ]
  },
  {
   "cell_type": "code",
   "execution_count": 0,
   "metadata": {
    "colab": {
     "base_uri": "https://localhost:8080/",
     "height": 34
    },
    "colab_type": "code",
    "id": "KoRw63CM2N0M",
    "outputId": "6164132c-2621-48a3-a2c2-a420d5a77e78"
   },
   "outputs": [
    {
     "name": "stdout",
     "output_type": "stream",
     "text": [
      "7\n"
     ]
    }
   ],
   "source": [
    "print(my_abs(7))"
   ]
  },
  {
   "cell_type": "code",
   "execution_count": 0,
   "metadata": {
    "colab": {},
    "colab_type": "code",
    "id": "j43XAm2U2PkW"
   },
   "outputs": [],
   "source": [
    "def ibrahim_sqrt(x):\n",
    "  return x ** 0.5"
   ]
  },
  {
   "cell_type": "code",
   "execution_count": 0,
   "metadata": {
    "colab": {
     "base_uri": "https://localhost:8080/",
     "height": 34
    },
    "colab_type": "code",
    "id": "rxYkfzAi2f48",
    "outputId": "70db2b08-e4fc-46b6-e90b-927a46064a60"
   },
   "outputs": [
    {
     "name": "stdout",
     "output_type": "stream",
     "text": [
      "3.0\n"
     ]
    }
   ],
   "source": [
    "print(ibrahim_sqrt(9))"
   ]
  },
  {
   "cell_type": "markdown",
   "metadata": {
    "colab_type": "text",
    "id": "cpuuIybdDNBy"
   },
   "source": [
    "### Question:\n",
    "Can we pass functions as parameters to other functions?"
   ]
  },
  {
   "cell_type": "code",
   "execution_count": 0,
   "metadata": {
    "colab": {},
    "colab_type": "code",
    "id": "CI2z0ENt2pIh"
   },
   "outputs": [],
   "source": []
  },
  {
   "cell_type": "markdown",
   "metadata": {
    "colab_type": "text",
    "id": "XKbB6D2pJDrz"
   },
   "source": [
    "### Question:\n",
    "Can we pass default parameters to functions?"
   ]
  },
  {
   "cell_type": "code",
   "execution_count": 0,
   "metadata": {
    "colab": {
     "base_uri": "https://localhost:8080/",
     "height": 85
    },
    "colab_type": "code",
    "id": "jmyt0FA6MCT3",
    "outputId": "2f4a09f6-2928-4cc8-97ca-0024964b56a1"
   },
   "outputs": [
    {
     "name": "stdout",
     "output_type": "stream",
     "text": [
      "2\n",
      "3\n",
      "4\n",
      "2\n"
     ]
    }
   ],
   "source": [
    "def f(x=2):\n",
    "  return x\n",
    "  \n",
    "print(f())\n",
    "print(f(3))\n",
    "print(f(4))\n",
    "print(f())"
   ]
  },
  {
   "cell_type": "code",
   "execution_count": 0,
   "metadata": {
    "colab": {
     "base_uri": "https://localhost:8080/",
     "height": 34
    },
    "colab_type": "code",
    "id": "ya_uLw2tc_Dh",
    "outputId": "d5e6cc0c-7793-4ba2-c7b1-1a69a898f64a"
   },
   "outputs": [
    {
     "name": "stdout",
     "output_type": "stream",
     "text": [
      "3\n"
     ]
    }
   ],
   "source": [
    "a = f(3)\n",
    "print(a)\n",
    "\n",
    "_ = f(3)"
   ]
  },
  {
   "cell_type": "markdown",
   "metadata": {
    "colab_type": "text",
    "id": "hObTnUAYEgh1"
   },
   "source": [
    "### Lambda Functions"
   ]
  },
  {
   "cell_type": "code",
   "execution_count": 0,
   "metadata": {
    "colab": {},
    "colab_type": "code",
    "id": "ZoWYznG6EjDk"
   },
   "outputs": [],
   "source": [
    "f = lambda x: x ** 2"
   ]
  },
  {
   "cell_type": "code",
   "execution_count": 0,
   "metadata": {
    "colab": {
     "base_uri": "https://localhost:8080/",
     "height": 34
    },
    "colab_type": "code",
    "id": "VqXfLVJRG4wm",
    "outputId": "d96ffb25-133b-472d-fea7-d9cd361b3a04"
   },
   "outputs": [
    {
     "name": "stdout",
     "output_type": "stream",
     "text": [
      "9\n"
     ]
    }
   ],
   "source": [
    "print(f(3))"
   ]
  },
  {
   "cell_type": "code",
   "execution_count": 0,
   "metadata": {
    "colab": {
     "base_uri": "https://localhost:8080/",
     "height": 34
    },
    "colab_type": "code",
    "id": "8cfUBGBhdj1U",
    "outputId": "c8e42f01-c5ea-4620-fa35-3315dc6d3219"
   },
   "outputs": [
    {
     "name": "stdout",
     "output_type": "stream",
     "text": [
      "81\n"
     ]
    }
   ],
   "source": [
    "g = lambda x,y: x ** y\n",
    "print(g(3,4))"
   ]
  },
  {
   "cell_type": "code",
   "execution_count": 0,
   "metadata": {
    "colab": {},
    "colab_type": "code",
    "id": "elXsoVm3geLp"
   },
   "outputs": [],
   "source": [
    "def my_pow(base, power):\n",
    "  return base ** power"
   ]
  },
  {
   "cell_type": "code",
   "execution_count": 0,
   "metadata": {
    "colab": {
     "base_uri": "https://localhost:8080/",
     "height": 51
    },
    "colab_type": "code",
    "id": "TTSJYPgrgl7-",
    "outputId": "e23c0f50-e933-431f-af74-857fd2067bba"
   },
   "outputs": [
    {
     "name": "stdout",
     "output_type": "stream",
     "text": [
      "512\n",
      "27\n"
     ]
    }
   ],
   "source": [
    "print(my_pow(2, 9))\n",
    "print(my_pow(3, 3))"
   ]
  },
  {
   "cell_type": "code",
   "execution_count": 0,
   "metadata": {
    "colab": {},
    "colab_type": "code",
    "id": "JY1hTr_kHU6k"
   },
   "outputs": [],
   "source": [
    "def f_pow(n):\n",
    "  return lambda a: a ** n"
   ]
  },
  {
   "cell_type": "code",
   "execution_count": 0,
   "metadata": {
    "colab": {
     "base_uri": "https://localhost:8080/",
     "height": 34
    },
    "colab_type": "code",
    "id": "mzuxHl3DHf0J",
    "outputId": "e6136c29-cacf-43ec-964b-32c89fc0b63e"
   },
   "outputs": [
    {
     "name": "stdout",
     "output_type": "stream",
     "text": [
      "81\n"
     ]
    }
   ],
   "source": [
    "sqr = f_pow(2)\n",
    "print(sqr(9))"
   ]
  },
  {
   "cell_type": "code",
   "execution_count": 0,
   "metadata": {
    "colab": {
     "base_uri": "https://localhost:8080/",
     "height": 34
    },
    "colab_type": "code",
    "id": "DY_8L5VYHmWo",
    "outputId": "089f39c0-1221-4fdf-bc6f-9d784abbf735"
   },
   "outputs": [
    {
     "name": "stdout",
     "output_type": "stream",
     "text": [
      "27\n"
     ]
    }
   ],
   "source": [
    "cube = f_pow(3)\n",
    "print(cube(3))"
   ]
  },
  {
   "cell_type": "markdown",
   "metadata": {
    "colab_type": "text",
    "id": "-Qdwmp99Sf94"
   },
   "source": [
    "$f(x) = w.x + b$\n",
    "\n",
    "2, 5\n",
    "\n",
    "3, 10\n",
    "\n",
    "4, 17"
   ]
  },
  {
   "cell_type": "markdown",
   "metadata": {
    "colab_type": "text",
    "id": "WYyM7WCeMpBC"
   },
   "source": [
    "## Classes\n",
    "\n",
    "Think of classes as recipes. An object is an instance of a class."
   ]
  },
  {
   "cell_type": "code",
   "execution_count": 0,
   "metadata": {
    "colab": {},
    "colab_type": "code",
    "id": "GmBvR0DeMv0G"
   },
   "outputs": [],
   "source": [
    "class Class1:\n",
    "  x = 0"
   ]
  },
  {
   "cell_type": "code",
   "execution_count": 0,
   "metadata": {
    "colab": {
     "base_uri": "https://localhost:8080/",
     "height": 34
    },
    "colab_type": "code",
    "id": "V2IJCKRgM14C",
    "outputId": "55d0d72d-79c9-4aa2-db64-3a2f5be9a580"
   },
   "outputs": [
    {
     "name": "stdout",
     "output_type": "stream",
     "text": [
      "0 0 0\n"
     ]
    }
   ],
   "source": [
    "_c1 = Class1()\n",
    "_c2 = Class1()\n",
    "_c3 = Class1()\n",
    "print(_c1.x, _c2.x, _c3.x)"
   ]
  },
  {
   "cell_type": "code",
   "execution_count": 0,
   "metadata": {
    "colab": {
     "base_uri": "https://localhost:8080/",
     "height": 34
    },
    "colab_type": "code",
    "id": "PLUwo1YNiDe-",
    "outputId": "8690cce3-d46f-479a-926f-81b5e2ced557"
   },
   "outputs": [
    {
     "name": "stdout",
     "output_type": "stream",
     "text": [
      "False\n"
     ]
    }
   ],
   "source": [
    "print(_c1 is _c2)"
   ]
  },
  {
   "cell_type": "code",
   "execution_count": 0,
   "metadata": {
    "colab": {},
    "colab_type": "code",
    "id": "OZw6erkgiq_9"
   },
   "outputs": [],
   "source": [
    "class Class1:\n",
    "  x = 0"
   ]
  },
  {
   "cell_type": "code",
   "execution_count": 0,
   "metadata": {
    "colab": {},
    "colab_type": "code",
    "id": "H3l21aFINEEc"
   },
   "outputs": [],
   "source": [
    "class Class2:\n",
    "  def __init__(self, a, b):\n",
    "    self.a = a #this is the length\n",
    "    self.b = b #this is the width\n",
    "    self.c = a ** b\n",
    "    \n",
    "  def doSomething(self):\n",
    "    return self.a / self.b\n",
    "  \n",
    "  def doSomethingElse(self, multiplier):\n",
    "    return self.a / self.b * multiplier"
   ]
  },
  {
   "cell_type": "code",
   "execution_count": 0,
   "metadata": {
    "colab": {
     "base_uri": "https://localhost:8080/",
     "height": 34
    },
    "colab_type": "code",
    "id": "vqXfes1LWbJ2",
    "outputId": "0482691b-5b76-4fed-b0c1-d51ecaac4fce"
   },
   "outputs": [
    {
     "name": "stdout",
     "output_type": "stream",
     "text": [
      "11.313708498984761\n"
     ]
    }
   ],
   "source": [
    "_c = Class2(2,3.5)\n",
    "print(_c.c)"
   ]
  },
  {
   "cell_type": "code",
   "execution_count": 0,
   "metadata": {
    "colab": {
     "base_uri": "https://localhost:8080/",
     "height": 68
    },
    "colab_type": "code",
    "id": "RcZO2jxJjbPw",
    "outputId": "3f4d39c7-5879-4f19-9247-996d91643725"
   },
   "outputs": [
    {
     "name": "stdout",
     "output_type": "stream",
     "text": [
      "81\n",
      "0.75\n",
      "6.0\n"
     ]
    }
   ],
   "source": [
    "_d = Class2(3,4)\n",
    "print(_d.c)\n",
    "print(_d.doSomething())\n",
    "print(_d.doSomethingElse(8))"
   ]
  },
  {
   "cell_type": "code",
   "execution_count": 0,
   "metadata": {
    "colab": {},
    "colab_type": "code",
    "id": "hsuXuf5La9Lf"
   },
   "outputs": [],
   "source": [
    "c1 = Class2(4,5)\n",
    "c2 = Class2(5,6)\n",
    "c3 = Class2(6,7)"
   ]
  },
  {
   "cell_type": "code",
   "execution_count": 0,
   "metadata": {
    "colab": {
     "base_uri": "https://localhost:8080/",
     "height": 51
    },
    "colab_type": "code",
    "id": "Quqzl8GKbH_P",
    "outputId": "31a4b016-8ec9-4f85-d2d2-f53985e67996"
   },
   "outputs": [
    {
     "name": "stdout",
     "output_type": "stream",
     "text": [
      "30\n",
      "30\n"
     ]
    }
   ],
   "source": [
    "print(c2.doSomething())\n",
    "print(c2.c)"
   ]
  },
  {
   "cell_type": "markdown",
   "metadata": {
    "colab_type": "text",
    "id": "FOS35hndOQMv"
   },
   "source": [
    "## Question:\n",
    "Can we have a class that does what Class2 does, and then more?\n",
    "\n",
    "a = 5\n",
    "\n",
    "b = 6\n",
    "\n",
    "c = Class2(a,b)"
   ]
  },
  {
   "cell_type": "code",
   "execution_count": 0,
   "metadata": {
    "colab": {},
    "colab_type": "code",
    "id": "OCCZu50wNekX"
   },
   "outputs": [],
   "source": [
    "class Class3(Class2):\n",
    "  def __init__(self, a, b, d):\n",
    "    super().__init__(a, b)\n",
    "    self.d = d\n",
    "    self.e = (self.a + self.b) * d * self.c\n",
    "    \n",
    "  def _toString(self):\n",
    "    print('a: {}, b: {}, c: {}, d: {}, e: {}'.format(self.a, self.b, self.c, self.d, self.e))"
   ]
  },
  {
   "cell_type": "markdown",
   "metadata": {
    "colab_type": "text",
    "id": "YNvla4LLpdtw"
   },
   "source": []
  },
  {
   "cell_type": "code",
   "execution_count": 0,
   "metadata": {
    "colab": {},
    "colab_type": "code",
    "id": "z1P-g9VaO-oo"
   },
   "outputs": [],
   "source": [
    "c = Class3(4, 5, 6)"
   ]
  },
  {
   "cell_type": "code",
   "execution_count": 0,
   "metadata": {
    "colab": {
     "base_uri": "https://localhost:8080/",
     "height": 34
    },
    "colab_type": "code",
    "id": "UcUKSbTYZzDj",
    "outputId": "0853b679-031e-4c13-ad62-facf0a225e8f"
   },
   "outputs": [
    {
     "name": "stdout",
     "output_type": "stream",
     "text": [
      "4 5 1024 6 55296\n"
     ]
    }
   ],
   "source": [
    "print(c.a, c.b, c.c, c.d, c.e)"
   ]
  },
  {
   "cell_type": "code",
   "execution_count": 0,
   "metadata": {
    "colab": {
     "base_uri": "https://localhost:8080/",
     "height": 34
    },
    "colab_type": "code",
    "id": "ToRfUttMZ2L3",
    "outputId": "b9934380-f0c9-4ab1-849b-02bf6d083ddd"
   },
   "outputs": [
    {
     "name": "stdout",
     "output_type": "stream",
     "text": [
      "a: 4, b: 5, c: 1024, d: 6, e: 55296\n"
     ]
    }
   ],
   "source": [
    "c._toString()"
   ]
  },
  {
   "cell_type": "code",
   "execution_count": 0,
   "metadata": {
    "colab": {},
    "colab_type": "code",
    "id": "VoPnKaIjZ5rO"
   },
   "outputs": [],
   "source": []
  },
  {
   "cell_type": "markdown",
   "metadata": {
    "colab_type": "text",
    "id": "3tj-erzCeQYG"
   },
   "source": [
    "## Problem\n",
    "\n",
    "$ \\frac{x - a}{b} = \\frac{x + c}{d} $\n",
    "\n",
    "Create a class to solve for x"
   ]
  },
  {
   "cell_type": "markdown",
   "metadata": {
    "colab_type": "text",
    "id": "HzUEAhkPfThO"
   },
   "source": [
    "## Problem\n",
    "\n",
    "$ a[b - (c.x - d) + a.x] = 0 $\n",
    "\n",
    "Solve for x"
   ]
  },
  {
   "cell_type": "code",
   "execution_count": 0,
   "metadata": {
    "colab": {},
    "colab_type": "code",
    "id": "TDGwx2osfR03"
   },
   "outputs": [],
   "source": []
  },
  {
   "cell_type": "markdown",
   "metadata": {
    "colab_type": "text",
    "id": "QtKOLmRfpe7E"
   },
   "source": [
    "## After the quiz\n"
   ]
  },
  {
   "cell_type": "code",
   "execution_count": 0,
   "metadata": {
    "colab": {
     "base_uri": "https://localhost:8080/",
     "height": 51
    },
    "colab_type": "code",
    "id": "xkYP60AWpi5F",
    "outputId": "c09e7d5a-4ade-42db-f2a0-c0bcecb8b65a"
   },
   "outputs": [
    {
     "name": "stdout",
     "output_type": "stream",
     "text": [
      "8\n",
      "9\n"
     ]
    }
   ],
   "source": [
    "for i in range(8,10):\n",
    "  print(i)"
   ]
  },
  {
   "cell_type": "code",
   "execution_count": 0,
   "metadata": {
    "colab": {},
    "colab_type": "code",
    "id": "W2oNeUmFpws-"
   },
   "outputs": [],
   "source": [
    "i = 0\n",
    "n = 10\n",
    "f = open('file.txt')\n",
    "while not f.next():\n",
    "  print(i)"
   ]
  },
  {
   "cell_type": "code",
   "execution_count": 0,
   "metadata": {
    "colab": {
     "base_uri": "https://localhost:8080/",
     "height": 34
    },
    "colab_type": "code",
    "id": "O5ijy2YFtNX4",
    "outputId": "0be72680-4244-4d01-ea33-8ca70a9b326e"
   },
   "outputs": [
    {
     "name": "stdout",
     "output_type": "stream",
     "text": [
      "2\n"
     ]
    }
   ],
   "source": [
    "x = 0\n",
    "x = x + 2\n",
    "print(x)"
   ]
  },
  {
   "cell_type": "code",
   "execution_count": 0,
   "metadata": {
    "colab": {
     "base_uri": "https://localhost:8080/",
     "height": 34
    },
    "colab_type": "code",
    "id": "jf3h6kddtQDH",
    "outputId": "4d4f00a4-c464-4bf3-c97d-872ab0412586"
   },
   "outputs": [
    {
     "name": "stdout",
     "output_type": "stream",
     "text": [
      "2\n"
     ]
    }
   ],
   "source": [
    "x = 0\n",
    "x =+ 2\n",
    "print(x)"
   ]
  },
  {
   "cell_type": "code",
   "execution_count": 0,
   "metadata": {
    "colab": {
     "base_uri": "https://localhost:8080/",
     "height": 34
    },
    "colab_type": "code",
    "id": "KLu7kJ0LtT84",
    "outputId": "5a7e5bba-a6ce-48c6-f633-84717451e0a7"
   },
   "outputs": [
    {
     "name": "stdout",
     "output_type": "stream",
     "text": [
      "2\n"
     ]
    }
   ],
   "source": [
    "x = 0\n",
    "x += 2\n",
    "print(x)"
   ]
  },
  {
   "cell_type": "code",
   "execution_count": 0,
   "metadata": {
    "colab": {},
    "colab_type": "code",
    "id": "MwmuWhGCtXCH"
   },
   "outputs": [],
   "source": [
    "y = 2"
   ]
  },
  {
   "cell_type": "code",
   "execution_count": 0,
   "metadata": {
    "colab": {},
    "colab_type": "code",
    "id": "P4ZmIFXXuCIF"
   },
   "outputs": [],
   "source": [
    "y =- 7"
   ]
  },
  {
   "cell_type": "code",
   "execution_count": 0,
   "metadata": {
    "colab": {
     "base_uri": "https://localhost:8080/",
     "height": 34
    },
    "colab_type": "code",
    "id": "8oHpGxsGuEBJ",
    "outputId": "4442f8dc-0fc7-4ef7-baad-94e212b4cbbd"
   },
   "outputs": [
    {
     "data": {
      "text/plain": [
       "-7"
      ]
     },
     "execution_count": 11,
     "metadata": {
      "tags": []
     },
     "output_type": "execute_result"
    }
   ],
   "source": [
    "y"
   ]
  },
  {
   "cell_type": "code",
   "execution_count": 0,
   "metadata": {
    "colab": {},
    "colab_type": "code",
    "id": "4h6HnQYAuE6L"
   },
   "outputs": [],
   "source": []
  }
 ],
 "metadata": {
  "colab": {
   "collapsed_sections": [],
   "name": "AMMI_Day_1.ipynb",
   "provenance": []
  },
  "kernelspec": {
   "display_name": "Python 3",
   "language": "python",
   "name": "python3"
  },
  "language_info": {
   "codemirror_mode": {
    "name": "ipython",
    "version": 3
   },
   "file_extension": ".py",
   "mimetype": "text/x-python",
   "name": "python",
   "nbconvert_exporter": "python",
   "pygments_lexer": "ipython3",
   "version": "3.7.4"
  }
 },
 "nbformat": 4,
 "nbformat_minor": 1
}
