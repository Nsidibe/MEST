{
 "cells": [
  {
   "cell_type": "markdown",
   "metadata": {
    "colab_type": "text",
    "id": "XCG3PWNv4b7-"
   },
   "source": [
    "# MEST Pre-Work"
   ]
  },
  {
   "cell_type": "markdown",
   "metadata": {
    "colab_type": "text",
    "id": "MkI_Egiy4zVh"
   },
   "source": [
    "## Introduction to Python Programming\n",
    "* Functions\n",
    "* Classes\n",
    "* Operators"
   ]
  },
  {
   "cell_type": "markdown",
   "metadata": {
    "colab_type": "text",
    "id": "GKJ9TTDNkFLY"
   },
   "source": [
    "__Python Variables__\n",
    "\n",
    "You may initialize your variables by simply assigning the value to the variable name. No need to specify a type for the variable"
   ]
  },
  {
   "cell_type": "code",
   "execution_count": null,
   "metadata": {
    "colab": {
     "base_uri": "https://localhost:8080/",
     "height": 34
    },
    "colab_type": "code",
    "id": "xbIphCYD4Yot",
    "outputId": "0b8cefc4-f51a-4a6e-b3f9-12c46321992c"
   },
   "outputs": [],
   "source": [
    "a = 1\n",
    "print(type(a))"
   ]
  },
  {
   "cell_type": "markdown",
   "metadata": {},
   "source": [
    "You may find out the type of a variable by asking the interpreter to print out the result of `type()`"
   ]
  },
  {
   "cell_type": "code",
   "execution_count": null,
   "metadata": {
    "colab": {
     "base_uri": "https://localhost:8080/",
     "height": 34
    },
    "colab_type": "code",
    "id": "TzGsQzbkkMW_",
    "outputId": "b8aae217-f6bb-46e6-fcc4-5ab8ab850d13"
   },
   "outputs": [],
   "source": [
    "b = 2.0\n",
    "print(type(b))"
   ]
  },
  {
   "cell_type": "code",
   "execution_count": null,
   "metadata": {
    "colab": {
     "base_uri": "https://localhost:8080/",
     "height": 34
    },
    "colab_type": "code",
    "id": "y3EC98xAkT43",
    "outputId": "b0a2b986-8668-49c0-fd02-40da1dead652"
   },
   "outputs": [],
   "source": [
    "c = 'hello'\n",
    "print(type(c))"
   ]
  },
  {
   "cell_type": "markdown",
   "metadata": {},
   "source": [
    "You may carry out simple mathematical operations"
   ]
  },
  {
   "cell_type": "code",
   "execution_count": null,
   "metadata": {
    "colab": {
     "base_uri": "https://localhost:8080/",
     "height": 34
    },
    "colab_type": "code",
    "id": "rI9hJISDkxpr",
    "outputId": "4437400a-3007-46a6-d134-ce46181cec43"
   },
   "outputs": [],
   "source": [
    "print(type(a + 0.0))"
   ]
  },
  {
   "cell_type": "code",
   "execution_count": null,
   "metadata": {
    "colab": {},
    "colab_type": "code",
    "id": "0wF0nfXsk7Mc"
   },
   "outputs": [],
   "source": [
    "print('the value of a is {}'.format(a))"
   ]
  },
  {
   "cell_type": "code",
   "execution_count": null,
   "metadata": {
    "colab": {
     "base_uri": "https://localhost:8080/",
     "height": 34
    },
    "colab_type": "code",
    "id": "2tE8tpXckNsQ",
    "outputId": "d715ff5c-9960-484e-c1c1-0fac4aaa3acd"
   },
   "outputs": [],
   "source": [
    "# modulo\n",
    "print(20 % 3)"
   ]
  },
  {
   "cell_type": "code",
   "execution_count": null,
   "metadata": {
    "colab": {
     "base_uri": "https://localhost:8080/",
     "height": 34
    },
    "colab_type": "code",
    "id": "P3DZNxEJkabu",
    "outputId": "5e433edf-0884-47f5-a6d7-9d35e021b10c"
   },
   "outputs": [],
   "source": [
    "# exponential\n",
    "print(3 ** 3)"
   ]
  },
  {
   "cell_type": "code",
   "execution_count": null,
   "metadata": {
    "colab": {
     "base_uri": "https://localhost:8080/",
     "height": 34
    },
    "colab_type": "code",
    "id": "1X_MbjzfkvX6",
    "outputId": "0b6a87f4-d6ea-4307-8bd5-1c091e2a0243"
   },
   "outputs": [],
   "source": [
    "print(40 // 3)"
   ]
  },
  {
   "cell_type": "markdown",
   "metadata": {
    "colab_type": "text",
    "id": "9prAiZurlKPz"
   },
   "source": [
    "__Conditionals__"
   ]
  },
  {
   "cell_type": "code",
   "execution_count": null,
   "metadata": {
    "colab": {},
    "colab_type": "code",
    "id": "iXuVxPfPlNSP"
   },
   "outputs": [],
   "source": [
    "# Equal to\n",
    "x = 40 % 3\n",
    "if x == 2:\n",
    "  print('1 remains')"
   ]
  },
  {
   "cell_type": "code",
   "execution_count": null,
   "metadata": {
    "colab": {
     "base_uri": "https://localhost:8080/",
     "height": 34
    },
    "colab_type": "code",
    "id": "KCq02JUQlX0a",
    "outputId": "e0ee9863-fd46-4ecc-e668-6eafc82f35c6"
   },
   "outputs": [],
   "source": [
    "# Not Equal to\n",
    "if a != 2:\n",
    "  print('not equal to 2')"
   ]
  },
  {
   "cell_type": "code",
   "execution_count": null,
   "metadata": {
    "colab": {},
    "colab_type": "code",
    "id": "sQikFhIflgjb"
   },
   "outputs": [],
   "source": [
    "# Greater than\n",
    "if a > 1:\n",
    "  print('satisfied')"
   ]
  },
  {
   "cell_type": "code",
   "execution_count": null,
   "metadata": {
    "colab": {
     "base_uri": "https://localhost:8080/",
     "height": 34
    },
    "colab_type": "code",
    "id": "IsqXyEqIlm56",
    "outputId": "517c7f21-5223-42af-e156-ca1123535118"
   },
   "outputs": [],
   "source": [
    "# Greater than or equal to\n",
    "if a >= 1:\n",
    "  print('condition satisfied')"
   ]
  },
  {
   "cell_type": "code",
   "execution_count": null,
   "metadata": {
    "colab": {
     "base_uri": "https://localhost:8080/",
     "height": 34
    },
    "colab_type": "code",
    "id": "LHiaR3GhluDj",
    "outputId": "15b8a12d-cf0a-493e-8bd0-d55862f8c3d0"
   },
   "outputs": [],
   "source": [
    "# Less than\n",
    "if a < 2:\n",
    "  print('satisfied')"
   ]
  },
  {
   "cell_type": "code",
   "execution_count": null,
   "metadata": {
    "colab": {
     "base_uri": "https://localhost:8080/",
     "height": 34
    },
    "colab_type": "code",
    "id": "24uw4PlYl345",
    "outputId": "1d77dc42-dc75-4bd7-d809-ebdeb01400ed"
   },
   "outputs": [],
   "source": [
    "# Less than or equal to\n",
    "if a <= 2:\n",
    "  print('satisfied')"
   ]
  },
  {
   "cell_type": "code",
   "execution_count": null,
   "metadata": {
    "colab": {},
    "colab_type": "code",
    "id": "TGtnILgjmAJe"
   },
   "outputs": [],
   "source": [
    "if a == 2:\n",
    "  print('2')\n",
    "elif a == 1:\n",
    "  print('1')\n",
    "else:\n",
    "  print('neither')"
   ]
  },
  {
   "cell_type": "code",
   "execution_count": null,
   "metadata": {
    "colab": {
     "base_uri": "https://localhost:8080/",
     "height": 34
    },
    "colab_type": "code",
    "id": "iK6OX3Y_mpZH",
    "outputId": "eb1b526f-13f0-46d3-81fd-d284c97208c4"
   },
   "outputs": [],
   "source": [
    "a = 0\n",
    "if 20%3 == 1:\n",
    "  a = 1\n",
    "else:\n",
    "  a = 2\n",
    "print(a)"
   ]
  },
  {
   "cell_type": "code",
   "execution_count": null,
   "metadata": {
    "colab": {
     "base_uri": "https://localhost:8080/",
     "height": 130
    },
    "colab_type": "code",
    "id": "fL9_JzCtm32_",
    "outputId": "fae1b465-6127-4496-9521-6f73c8f81883"
   },
   "outputs": [],
   "source": [
    "x = 2\n",
    "y = 3\n",
    "a = (x == y) ? 1 : 2"
   ]
  },
  {
   "cell_type": "code",
   "execution_count": null,
   "metadata": {
    "colab": {
     "base_uri": "https://localhost:8080/",
     "height": 130
    },
    "colab_type": "code",
    "id": "7xaaNtpJnXdm",
    "outputId": "a15ad975-6bd4-4150-82b7-e40826af98ec"
   },
   "outputs": [],
   "source": [
    "try:\n",
    "  if x = 2:\n",
    "    print('2')\n",
    "except:\n",
    "  print('something went wrong')"
   ]
  },
  {
   "cell_type": "markdown",
   "metadata": {
    "colab_type": "text",
    "id": "Ux5DhUIsmVei"
   },
   "source": [
    "__Loops__"
   ]
  },
  {
   "cell_type": "code",
   "execution_count": null,
   "metadata": {
    "colab": {
     "base_uri": "https://localhost:8080/",
     "height": 103
    },
    "colab_type": "code",
    "id": "66McK2a6mZwu",
    "outputId": "9bf27e79-6941-4415-a388-3d74c67bedb8"
   },
   "outputs": [],
   "source": [
    "# do this n times\n",
    "n = 15\n",
    "#[2,15)\n",
    "for i in range(2, n, 3):\n",
    "  print(i)\n",
    "  \n",
    "# in what other ways can we make use of range?"
   ]
  },
  {
   "cell_type": "code",
   "execution_count": null,
   "metadata": {
    "colab": {
     "base_uri": "https://localhost:8080/",
     "height": 34
    },
    "colab_type": "code",
    "id": "d_D24c1orG20",
    "outputId": "9838af2f-761b-4bcf-dfee-20964aaf7674"
   },
   "outputs": [],
   "source": [
    "_range = range(5)\n",
    "print(_range)"
   ]
  },
  {
   "cell_type": "code",
   "execution_count": null,
   "metadata": {
    "colab": {
     "base_uri": "https://localhost:8080/",
     "height": 103
    },
    "colab_type": "code",
    "id": "K0n9maSypTiQ",
    "outputId": "e1093091-eaab-4516-d493-500aa69752ad"
   },
   "outputs": [],
   "source": [
    "# do this n times\n",
    "n = 10\n",
    "for i in range(1, n, 2):\n",
    "  print(i)\n",
    "  \n",
    "# in what other ways can we make use of range?"
   ]
  },
  {
   "cell_type": "code",
   "execution_count": null,
   "metadata": {
    "colab": {
     "base_uri": "https://localhost:8080/",
     "height": 103
    },
    "colab_type": "code",
    "id": "MNgT-mF-pbH-",
    "outputId": "0c2213c4-959c-49d0-8fe6-b125edcbd498"
   },
   "outputs": [],
   "source": [
    "# do this n times\n",
    "n = 10\n",
    "for i in range(n, 0, -2):\n",
    "  print(i)\n",
    "  \n",
    "# in what other ways can we make use of range?"
   ]
  },
  {
   "cell_type": "code",
   "execution_count": null,
   "metadata": {
    "colab": {
     "base_uri": "https://localhost:8080/",
     "height": 103
    },
    "colab_type": "code",
    "id": "sSUvV-QrmwGS",
    "outputId": "36cf13df-5e50-422e-eb06-5af568ce0714"
   },
   "outputs": [],
   "source": [
    "# do this as long as a condition is true\n",
    "n = 5\n",
    "while n > 0:\n",
    "  print(n)\n",
    "  n = n - 1"
   ]
  },
  {
   "cell_type": "markdown",
   "metadata": {
    "colab_type": "text",
    "id": "QKNFFXPinDUk"
   },
   "source": [
    "__Some shortcuts__"
   ]
  },
  {
   "cell_type": "code",
   "execution_count": null,
   "metadata": {
    "colab": {
     "base_uri": "https://localhost:8080/",
     "height": 51
    },
    "colab_type": "code",
    "id": "ONFJNaJ1nGUF",
    "outputId": "2594cf12-ef51-469d-a859-6cb298ef2a25"
   },
   "outputs": [],
   "source": [
    "n = 2\n",
    "n = n + 3\n",
    "print(n)\n",
    "\n",
    "n = 2\n",
    "n += 3\n",
    "print(n)"
   ]
  },
  {
   "cell_type": "code",
   "execution_count": null,
   "metadata": {
    "colab": {
     "base_uri": "https://localhost:8080/",
     "height": 34
    },
    "colab_type": "code",
    "id": "3aNJ0-FHqP7O",
    "outputId": "aab33ce2-a691-46b0-a4ca-4cd15f9c1663"
   },
   "outputs": [],
   "source": [
    "n = 3\n",
    "n *= 7\n",
    "print(n)"
   ]
  },
  {
   "cell_type": "markdown",
   "metadata": {
    "colab_type": "text",
    "id": "QiE0tnc4h4wf"
   },
   "source": [
    "### Functions - making things repeatable"
   ]
  },
  {
   "cell_type": "code",
   "execution_count": null,
   "metadata": {
    "colab": {},
    "colab_type": "code",
    "id": "0_jpRGbBh8D3"
   },
   "outputs": [],
   "source": []
  },
  {
   "cell_type": "markdown",
   "metadata": {
    "colab_type": "text",
    "id": "I7W38Bf9tD0A"
   },
   "source": [
    "$f(x) = x + 2$"
   ]
  },
  {
   "cell_type": "code",
   "execution_count": null,
   "metadata": {
    "colab": {
     "base_uri": "https://localhost:8080/",
     "height": 68
    },
    "colab_type": "code",
    "id": "kjA8SBqEtHUf",
    "outputId": "40d9830f-9c94-4fcc-ffc5-e5750f25b193"
   },
   "outputs": [],
   "source": [
    "a1 = 7\n",
    "a2 = 332\n",
    "a3 = 19\n",
    "\n",
    "print(a1 + 2)\n",
    "print(a2 - 2)\n",
    "print(a3 + 2)"
   ]
  },
  {
   "cell_type": "code",
   "execution_count": null,
   "metadata": {
    "colab": {},
    "colab_type": "code",
    "id": "BaatxfBptU4k"
   },
   "outputs": [],
   "source": [
    "def add_2(x):\n",
    "  return x + 2"
   ]
  },
  {
   "cell_type": "code",
   "execution_count": null,
   "metadata": {
    "colab": {
     "base_uri": "https://localhost:8080/",
     "height": 68
    },
    "colab_type": "code",
    "id": "cFAeGCfstkjO",
    "outputId": "b6d5b3cd-8fa0-4f10-a932-7b99d2e6ae0b"
   },
   "outputs": [],
   "source": [
    "print(add_2(a1))\n",
    "print(add_2(a2))\n",
    "print(add_2(a3))"
   ]
  },
  {
   "cell_type": "code",
   "execution_count": null,
   "metadata": {
    "colab": {},
    "colab_type": "code",
    "id": "q_NQ65LItugr"
   },
   "outputs": [],
   "source": []
  },
  {
   "cell_type": "markdown",
   "metadata": {
    "colab_type": "text",
    "id": "d4lFnDPnu3Fm"
   },
   "source": [
    "# Fibonnacci Sequence\n",
    "\n",
    "$f_1 = 0$\n",
    "\n",
    "$f_2 = 1$\n",
    "\n",
    "$f_n = f_{n-1} + f_{n-2}$\n",
    "\n",
    "0 1 1 2 3 5 8 13 ..."
   ]
  },
  {
   "cell_type": "code",
   "execution_count": null,
   "metadata": {
    "colab": {},
    "colab_type": "code",
    "id": "n0uc5QdGvIFI"
   },
   "outputs": [],
   "source": [
    "def fib_2(x):\n",
    "  x0 = 0\n",
    "  x1 = 1\n",
    "  x2 = 1\n",
    "  for i in range(x):\n",
    "    x0 = x1\n",
    "    x1 = x2\n",
    "    x2 = x0 + x1\n",
    "  return x2"
   ]
  },
  {
   "cell_type": "code",
   "execution_count": null,
   "metadata": {
    "colab": {},
    "colab_type": "code",
    "id": "vV7H92zU2BE2"
   },
   "outputs": [],
   "source": [
    "def my_abs(x):\n",
    "  if x < 0:\n",
    "    return x * -1\n",
    "  return x"
   ]
  },
  {
   "cell_type": "code",
   "execution_count": null,
   "metadata": {
    "colab": {
     "base_uri": "https://localhost:8080/",
     "height": 34
    },
    "colab_type": "code",
    "id": "dE7hoPjH2Lsj",
    "outputId": "46cb7320-22df-491e-a81b-ba53ddead602"
   },
   "outputs": [],
   "source": [
    "print(my_abs(-9))"
   ]
  },
  {
   "cell_type": "code",
   "execution_count": null,
   "metadata": {
    "colab": {
     "base_uri": "https://localhost:8080/",
     "height": 34
    },
    "colab_type": "code",
    "id": "KoRw63CM2N0M",
    "outputId": "6164132c-2621-48a3-a2c2-a420d5a77e78"
   },
   "outputs": [],
   "source": [
    "print(my_abs(7))"
   ]
  },
  {
   "cell_type": "code",
   "execution_count": null,
   "metadata": {
    "colab": {},
    "colab_type": "code",
    "id": "j43XAm2U2PkW"
   },
   "outputs": [],
   "source": [
    "def ibrahim_sqrt(x):\n",
    "  return x ** 0.5"
   ]
  },
  {
   "cell_type": "code",
   "execution_count": null,
   "metadata": {
    "colab": {
     "base_uri": "https://localhost:8080/",
     "height": 34
    },
    "colab_type": "code",
    "id": "rxYkfzAi2f48",
    "outputId": "70db2b08-e4fc-46b6-e90b-927a46064a60"
   },
   "outputs": [],
   "source": [
    "print(ibrahim_sqrt(9))"
   ]
  },
  {
   "cell_type": "markdown",
   "metadata": {
    "colab_type": "text",
    "id": "cpuuIybdDNBy"
   },
   "source": [
    "### Question:\n",
    "Can we pass functions as parameters to other functions?"
   ]
  },
  {
   "cell_type": "code",
   "execution_count": null,
   "metadata": {
    "colab": {},
    "colab_type": "code",
    "id": "CI2z0ENt2pIh"
   },
   "outputs": [],
   "source": []
  },
  {
   "cell_type": "markdown",
   "metadata": {
    "colab_type": "text",
    "id": "XKbB6D2pJDrz"
   },
   "source": [
    "### Question:\n",
    "Can we pass default parameters to functions?"
   ]
  },
  {
   "cell_type": "code",
   "execution_count": null,
   "metadata": {
    "colab": {
     "base_uri": "https://localhost:8080/",
     "height": 85
    },
    "colab_type": "code",
    "id": "jmyt0FA6MCT3",
    "outputId": "2f4a09f6-2928-4cc8-97ca-0024964b56a1"
   },
   "outputs": [],
   "source": [
    "def f(x=2):\n",
    "  return x\n",
    "  \n",
    "print(f())\n",
    "print(f(3))\n",
    "print(f(4))\n",
    "print(f())"
   ]
  },
  {
   "cell_type": "code",
   "execution_count": null,
   "metadata": {
    "colab": {
     "base_uri": "https://localhost:8080/",
     "height": 34
    },
    "colab_type": "code",
    "id": "ya_uLw2tc_Dh",
    "outputId": "d5e6cc0c-7793-4ba2-c7b1-1a69a898f64a"
   },
   "outputs": [],
   "source": [
    "a = f(3)\n",
    "print(a)\n",
    "\n",
    "_ = f(3)"
   ]
  },
  {
   "cell_type": "markdown",
   "metadata": {
    "colab_type": "text",
    "id": "hObTnUAYEgh1"
   },
   "source": [
    "### Lambda Functions"
   ]
  },
  {
   "cell_type": "code",
   "execution_count": null,
   "metadata": {
    "colab": {},
    "colab_type": "code",
    "id": "ZoWYznG6EjDk"
   },
   "outputs": [],
   "source": [
    "f = lambda x: x ** 2"
   ]
  },
  {
   "cell_type": "code",
   "execution_count": null,
   "metadata": {
    "colab": {
     "base_uri": "https://localhost:8080/",
     "height": 34
    },
    "colab_type": "code",
    "id": "VqXfLVJRG4wm",
    "outputId": "d96ffb25-133b-472d-fea7-d9cd361b3a04"
   },
   "outputs": [],
   "source": [
    "print(f(3))"
   ]
  },
  {
   "cell_type": "code",
   "execution_count": null,
   "metadata": {
    "colab": {
     "base_uri": "https://localhost:8080/",
     "height": 34
    },
    "colab_type": "code",
    "id": "8cfUBGBhdj1U",
    "outputId": "c8e42f01-c5ea-4620-fa35-3315dc6d3219"
   },
   "outputs": [],
   "source": [
    "g = lambda x,y: x ** y\n",
    "print(g(3,4))"
   ]
  },
  {
   "cell_type": "code",
   "execution_count": null,
   "metadata": {
    "colab": {},
    "colab_type": "code",
    "id": "elXsoVm3geLp"
   },
   "outputs": [],
   "source": [
    "def my_pow(base, power):\n",
    "  return base ** power"
   ]
  },
  {
   "cell_type": "code",
   "execution_count": null,
   "metadata": {
    "colab": {
     "base_uri": "https://localhost:8080/",
     "height": 51
    },
    "colab_type": "code",
    "id": "TTSJYPgrgl7-",
    "outputId": "e23c0f50-e933-431f-af74-857fd2067bba"
   },
   "outputs": [],
   "source": [
    "print(my_pow(2, 9))\n",
    "print(my_pow(3, 3))"
   ]
  },
  {
   "cell_type": "code",
   "execution_count": null,
   "metadata": {
    "colab": {},
    "colab_type": "code",
    "id": "JY1hTr_kHU6k"
   },
   "outputs": [],
   "source": [
    "def f_pow(n):\n",
    "  return lambda a: a ** n"
   ]
  },
  {
   "cell_type": "code",
   "execution_count": null,
   "metadata": {
    "colab": {
     "base_uri": "https://localhost:8080/",
     "height": 34
    },
    "colab_type": "code",
    "id": "mzuxHl3DHf0J",
    "outputId": "e6136c29-cacf-43ec-964b-32c89fc0b63e"
   },
   "outputs": [],
   "source": [
    "sqr = f_pow(2)\n",
    "print(sqr(9))"
   ]
  },
  {
   "cell_type": "code",
   "execution_count": null,
   "metadata": {
    "colab": {
     "base_uri": "https://localhost:8080/",
     "height": 34
    },
    "colab_type": "code",
    "id": "DY_8L5VYHmWo",
    "outputId": "089f39c0-1221-4fdf-bc6f-9d784abbf735"
   },
   "outputs": [],
   "source": [
    "cube = f_pow(3)\n",
    "print(cube(3))"
   ]
  },
  {
   "cell_type": "markdown",
   "metadata": {
    "colab_type": "text",
    "id": "-Qdwmp99Sf94"
   },
   "source": [
    "$f(x) = w.x + b$\n",
    "\n",
    "2, 5\n",
    "\n",
    "3, 10\n",
    "\n",
    "4, 17"
   ]
  },
  {
   "cell_type": "markdown",
   "metadata": {
    "colab_type": "text",
    "id": "WYyM7WCeMpBC"
   },
   "source": [
    "## Classes\n",
    "\n",
    "Think of classes as recipes. An object is an instance of a class."
   ]
  },
  {
   "cell_type": "code",
   "execution_count": null,
   "metadata": {
    "colab": {},
    "colab_type": "code",
    "id": "GmBvR0DeMv0G"
   },
   "outputs": [],
   "source": [
    "class Class1:\n",
    "  x = 0"
   ]
  },
  {
   "cell_type": "code",
   "execution_count": null,
   "metadata": {
    "colab": {
     "base_uri": "https://localhost:8080/",
     "height": 34
    },
    "colab_type": "code",
    "id": "V2IJCKRgM14C",
    "outputId": "55d0d72d-79c9-4aa2-db64-3a2f5be9a580"
   },
   "outputs": [],
   "source": [
    "_c1 = Class1()\n",
    "_c2 = Class1()\n",
    "_c3 = Class1()\n",
    "print(_c1.x, _c2.x, _c3.x)"
   ]
  },
  {
   "cell_type": "code",
   "execution_count": null,
   "metadata": {
    "colab": {
     "base_uri": "https://localhost:8080/",
     "height": 34
    },
    "colab_type": "code",
    "id": "PLUwo1YNiDe-",
    "outputId": "8690cce3-d46f-479a-926f-81b5e2ced557"
   },
   "outputs": [],
   "source": [
    "print(_c1 is _c2)"
   ]
  },
  {
   "cell_type": "code",
   "execution_count": null,
   "metadata": {
    "colab": {},
    "colab_type": "code",
    "id": "OZw6erkgiq_9"
   },
   "outputs": [],
   "source": [
    "class Class1:\n",
    "  x = 0"
   ]
  },
  {
   "cell_type": "code",
   "execution_count": null,
   "metadata": {
    "colab": {},
    "colab_type": "code",
    "id": "H3l21aFINEEc"
   },
   "outputs": [],
   "source": [
    "class Class2:\n",
    "  def __init__(self, a, b):\n",
    "    self.a = a #this is the length\n",
    "    self.b = b #this is the width\n",
    "    self.c = a ** b\n",
    "    \n",
    "  def doSomething(self):\n",
    "    return self.a / self.b\n",
    "  \n",
    "  def doSomethingElse(self, multiplier):\n",
    "    return self.a / self.b * multiplier"
   ]
  },
  {
   "cell_type": "code",
   "execution_count": null,
   "metadata": {
    "colab": {
     "base_uri": "https://localhost:8080/",
     "height": 34
    },
    "colab_type": "code",
    "id": "vqXfes1LWbJ2",
    "outputId": "0482691b-5b76-4fed-b0c1-d51ecaac4fce"
   },
   "outputs": [],
   "source": [
    "_c = Class2(2,3.5)\n",
    "print(_c.c)"
   ]
  },
  {
   "cell_type": "code",
   "execution_count": null,
   "metadata": {
    "colab": {
     "base_uri": "https://localhost:8080/",
     "height": 68
    },
    "colab_type": "code",
    "id": "RcZO2jxJjbPw",
    "outputId": "3f4d39c7-5879-4f19-9247-996d91643725"
   },
   "outputs": [],
   "source": [
    "_d = Class2(3,4)\n",
    "print(_d.c)\n",
    "print(_d.doSomething())\n",
    "print(_d.doSomethingElse(8))"
   ]
  },
  {
   "cell_type": "code",
   "execution_count": null,
   "metadata": {
    "colab": {},
    "colab_type": "code",
    "id": "hsuXuf5La9Lf"
   },
   "outputs": [],
   "source": [
    "c1 = Class2(4,5)\n",
    "c2 = Class2(5,6)\n",
    "c3 = Class2(6,7)"
   ]
  },
  {
   "cell_type": "code",
   "execution_count": null,
   "metadata": {
    "colab": {
     "base_uri": "https://localhost:8080/",
     "height": 51
    },
    "colab_type": "code",
    "id": "Quqzl8GKbH_P",
    "outputId": "31a4b016-8ec9-4f85-d2d2-f53985e67996"
   },
   "outputs": [],
   "source": [
    "print(c2.doSomething())\n",
    "print(c2.c)"
   ]
  },
  {
   "cell_type": "markdown",
   "metadata": {
    "colab_type": "text",
    "id": "FOS35hndOQMv"
   },
   "source": [
    "## Question:\n",
    "Can we have a class that does what Class2 does, and then more?\n",
    "\n",
    "a = 5\n",
    "\n",
    "b = 6\n",
    "\n",
    "c = Class2(a,b)"
   ]
  },
  {
   "cell_type": "code",
   "execution_count": null,
   "metadata": {
    "colab": {},
    "colab_type": "code",
    "id": "OCCZu50wNekX"
   },
   "outputs": [],
   "source": [
    "class Class3(Class2):\n",
    "  def __init__(self, a, b, d):\n",
    "    super().__init__(a, b)\n",
    "    self.d = d\n",
    "    self.e = (self.a + self.b) * d * self.c\n",
    "    \n",
    "  def _toString(self):\n",
    "    print('a: {}, b: {}, c: {}, d: {}, e: {}'.format(self.a, self.b, self.c, self.d, self.e))"
   ]
  },
  {
   "cell_type": "markdown",
   "metadata": {
    "colab_type": "text",
    "id": "YNvla4LLpdtw"
   },
   "source": []
  },
  {
   "cell_type": "code",
   "execution_count": null,
   "metadata": {
    "colab": {},
    "colab_type": "code",
    "id": "z1P-g9VaO-oo"
   },
   "outputs": [],
   "source": [
    "c = Class3(4, 5, 6)"
   ]
  },
  {
   "cell_type": "code",
   "execution_count": null,
   "metadata": {
    "colab": {
     "base_uri": "https://localhost:8080/",
     "height": 34
    },
    "colab_type": "code",
    "id": "UcUKSbTYZzDj",
    "outputId": "0853b679-031e-4c13-ad62-facf0a225e8f"
   },
   "outputs": [],
   "source": [
    "print(c.a, c.b, c.c, c.d, c.e)"
   ]
  },
  {
   "cell_type": "code",
   "execution_count": null,
   "metadata": {
    "colab": {
     "base_uri": "https://localhost:8080/",
     "height": 34
    },
    "colab_type": "code",
    "id": "ToRfUttMZ2L3",
    "outputId": "b9934380-f0c9-4ab1-849b-02bf6d083ddd"
   },
   "outputs": [],
   "source": [
    "c._toString()"
   ]
  },
  {
   "cell_type": "code",
   "execution_count": null,
   "metadata": {
    "colab": {},
    "colab_type": "code",
    "id": "VoPnKaIjZ5rO"
   },
   "outputs": [],
   "source": []
  },
  {
   "cell_type": "markdown",
   "metadata": {
    "colab_type": "text",
    "id": "3tj-erzCeQYG"
   },
   "source": [
    "## Problem\n",
    "\n",
    "$ \\frac{x - a}{b} = \\frac{x + c}{d} $\n",
    "\n",
    "Create a class to solve for x"
   ]
  },
  {
   "cell_type": "markdown",
   "metadata": {
    "colab_type": "text",
    "id": "HzUEAhkPfThO"
   },
   "source": [
    "## Problem\n",
    "\n",
    "$ a[b - (c.x - d) + a.x] = 0 $\n",
    "\n",
    "Solve for x"
   ]
  },
  {
   "cell_type": "markdown",
   "metadata": {
    "colab": {},
    "colab_type": "code",
    "id": "4h6HnQYAuE6L"
   },
   "source": []
  },
  {
   "cell_type": "markdown",
   "metadata": {
    "colab": {},
    "colab_type": "code",
    "id": "TDGwx2osfR03"
   },
   "source": [
    "## Python Data Structures\n",
    "* Lists\n",
    "* Dictionaries\n",
    "* Stacks\n",
    "* Queues"
   ]
  },
  {
   "cell_type": "markdown",
   "metadata": {},
   "source": [
    "## Lists\n",
    "Collection type that is ordered and changeable"
   ]
  },
  {
   "cell_type": "code",
   "execution_count": null,
   "metadata": {},
   "outputs": [],
   "source": [
    "_list1 = ['zero', 'first', 'second', 'third']\n",
    "print(_list1)\n",
    "print(len(_list1))"
   ]
  },
  {
   "cell_type": "markdown",
   "metadata": {},
   "source": [
    "0-based index"
   ]
  },
  {
   "cell_type": "code",
   "execution_count": null,
   "metadata": {},
   "outputs": [],
   "source": [
    "print(_list1[2] )"
   ]
  },
  {
   "cell_type": "markdown",
   "metadata": {},
   "source": [
    "can we start counting from the end?"
   ]
  },
  {
   "cell_type": "code",
   "execution_count": null,
   "metadata": {},
   "outputs": [],
   "source": [
    "print(_list1[-1])"
   ]
  },
  {
   "cell_type": "markdown",
   "metadata": {},
   "source": [
    "extract a range"
   ]
  },
  {
   "cell_type": "code",
   "execution_count": null,
   "metadata": {},
   "outputs": [],
   "source": [
    "_list = ['zero', 'one', 'two', 'three', 'four', 'five', 'six', 'seven', 'eight']\n",
    "print(_list[2:5])"
   ]
  },
  {
   "cell_type": "markdown",
   "metadata": {},
   "source": [
    "update the value at index 0"
   ]
  },
  {
   "cell_type": "code",
   "execution_count": null,
   "metadata": {},
   "outputs": [],
   "source": [
    "_list[0] = 'updated zero'\n",
    "print(_list)"
   ]
  },
  {
   "cell_type": "markdown",
   "metadata": {},
   "source": [
    "can we iterate over a list?"
   ]
  },
  {
   "cell_type": "code",
   "execution_count": null,
   "metadata": {},
   "outputs": [],
   "source": [
    "for i in _list:\n",
    "  print(i)"
   ]
  },
  {
   "cell_type": "markdown",
   "metadata": {},
   "source": [
    "can we check for an item in a list?"
   ]
  },
  {
   "cell_type": "code",
   "execution_count": null,
   "metadata": {},
   "outputs": [],
   "source": [
    "if 'two' in _list:\n",
    "  print('exists')"
   ]
  },
  {
   "cell_type": "code",
   "execution_count": null,
   "metadata": {},
   "outputs": [],
   "source": [
    "print(len(_list))\n",
    "_list[9] = 'ten'\n",
    "print(_list)"
   ]
  },
  {
   "cell_type": "markdown",
   "metadata": {},
   "source": [
    "Let's `append()` to the list"
   ]
  },
  {
   "cell_type": "code",
   "execution_count": null,
   "metadata": {},
   "outputs": [],
   "source": [
    "print(len(_list1))\n",
    "_list1.append('four')\n",
    "print(len(_list1))"
   ]
  },
  {
   "cell_type": "markdown",
   "metadata": {},
   "source": [
    "Let's `insert()` an item at the specified index"
   ]
  },
  {
   "cell_type": "code",
   "execution_count": null,
   "metadata": {},
   "outputs": [],
   "source": [
    "print(_list)\n",
    "_list.insert(9, 'nine')\n",
    "print(_list)"
   ]
  },
  {
   "cell_type": "code",
   "execution_count": null,
   "metadata": {},
   "outputs": [],
   "source": []
  },
  {
   "cell_type": "markdown",
   "metadata": {},
   "source": [
    "A stack is a collection that lends itself to push and `pop()` operations. We have used `append()` to push, now let's `pop()`\n",
    "* By appending to the front and popping from the back, you create a queue\n",
    "* By appending to the back and popping from the back, you create a stack"
   ]
  },
  {
   "cell_type": "markdown",
   "metadata": {},
   "source": [
    "To copy a list, subset the entire list"
   ]
  },
  {
   "cell_type": "code",
   "execution_count": null,
   "metadata": {},
   "outputs": [],
   "source": [
    "_list2 = _list1"
   ]
  },
  {
   "cell_type": "code",
   "execution_count": null,
   "metadata": {},
   "outputs": [],
   "source": [
    "print(_list1)\n",
    "print(_list2)"
   ]
  },
  {
   "cell_type": "code",
   "execution_count": null,
   "metadata": {},
   "outputs": [],
   "source": [
    "_list1[0] = 'mod zero'\n",
    "print(_list1)\n",
    "print(_list2)"
   ]
  },
  {
   "cell_type": "code",
   "execution_count": null,
   "metadata": {},
   "outputs": [],
   "source": [
    "print(_list1 is _list2)"
   ]
  },
  {
   "cell_type": "code",
   "execution_count": null,
   "metadata": {},
   "outputs": [],
   "source": [
    "_list2 = list(_list1)\n",
    "print(_list1 is _list2)"
   ]
  },
  {
   "cell_type": "markdown",
   "metadata": {},
   "source": [
    "Or use the copy method"
   ]
  },
  {
   "cell_type": "code",
   "execution_count": null,
   "metadata": {},
   "outputs": [],
   "source": [
    "_list3 = _list1.copy()\n",
    "print(_list1 is _list3)"
   ]
  },
  {
   "cell_type": "code",
   "execution_count": null,
   "metadata": {},
   "outputs": [],
   "source": [
    "print(_list1)\n",
    "print(_list3)"
   ]
  },
  {
   "cell_type": "code",
   "execution_count": null,
   "metadata": {},
   "outputs": [],
   "source": [
    "_list3[0] = 'zero'\n",
    "print(_list1)\n",
    "print(_list3)"
   ]
  },
  {
   "cell_type": "markdown",
   "metadata": {},
   "source": [
    "Use `extend()` to copy the elements of one list to another"
   ]
  },
  {
   "cell_type": "code",
   "execution_count": null,
   "metadata": {},
   "outputs": [],
   "source": [
    "print(_list1)\n",
    "print(_list)"
   ]
  },
  {
   "cell_type": "code",
   "execution_count": null,
   "metadata": {},
   "outputs": [],
   "source": [
    "_new_list = _list1.copy()\n",
    "_new_list.extend(_list)\n",
    "print(_new_list)"
   ]
  },
  {
   "cell_type": "markdown",
   "metadata": {},
   "source": [
    "Use `sort()` to sort a list"
   ]
  },
  {
   "cell_type": "code",
   "execution_count": null,
   "metadata": {},
   "outputs": [],
   "source": [
    "_new_list.sort()\n",
    "print(_new_list)"
   ]
  },
  {
   "cell_type": "code",
   "execution_count": null,
   "metadata": {},
   "outputs": [],
   "source": [
    "_new_list.sort(reverse=True)\n",
    "print(_new_list)"
   ]
  },
  {
   "cell_type": "markdown",
   "metadata": {},
   "source": [
    "Use `reverse()` to reverse a list"
   ]
  },
  {
   "cell_type": "markdown",
   "metadata": {},
   "source": [
    "## Tuples\n",
    "An immutable collection of ordered items"
   ]
  },
  {
   "cell_type": "code",
   "execution_count": null,
   "metadata": {},
   "outputs": [],
   "source": [
    "_tuple1 = ('zero', 'one', 'two')"
   ]
  },
  {
   "cell_type": "markdown",
   "metadata": {},
   "source": [
    "print element 0"
   ]
  },
  {
   "cell_type": "code",
   "execution_count": null,
   "metadata": {},
   "outputs": [],
   "source": [
    "print(_tuple1[0])"
   ]
  },
  {
   "cell_type": "code",
   "execution_count": null,
   "metadata": {},
   "outputs": [],
   "source": [
    "def _ret_tuple():\n",
    "  return ('a', 'b')"
   ]
  },
  {
   "cell_type": "code",
   "execution_count": null,
   "metadata": {},
   "outputs": [],
   "source": [
    "x, y = _ret_tuple()\n",
    "print(x, y)"
   ]
  },
  {
   "cell_type": "markdown",
   "metadata": {},
   "source": [
    "convert tuple to list"
   ]
  },
  {
   "cell_type": "code",
   "execution_count": null,
   "metadata": {},
   "outputs": [],
   "source": [
    "my_list = list(_tuple1)"
   ]
  },
  {
   "cell_type": "markdown",
   "metadata": {},
   "source": [
    "convert list to tuple"
   ]
  },
  {
   "cell_type": "code",
   "execution_count": null,
   "metadata": {},
   "outputs": [],
   "source": [
    "my_tuple = tuple(my_list)"
   ]
  },
  {
   "cell_type": "code",
   "execution_count": null,
   "metadata": {},
   "outputs": [],
   "source": [
    "for i in my_tuple:\n",
    "  print(i)"
   ]
  },
  {
   "cell_type": "code",
   "execution_count": null,
   "metadata": {},
   "outputs": [],
   "source": []
  },
  {
   "cell_type": "markdown",
   "metadata": {},
   "source": [
    "## Sets\n",
    "Unordered, unindexed"
   ]
  },
  {
   "cell_type": "code",
   "execution_count": null,
   "metadata": {},
   "outputs": [],
   "source": [
    "_set1 = {'one', 'nine', 'four'}"
   ]
  },
  {
   "cell_type": "markdown",
   "metadata": {},
   "source": [
    "get the items"
   ]
  },
  {
   "cell_type": "code",
   "execution_count": null,
   "metadata": {},
   "outputs": [],
   "source": [
    "for i in _set1:\n",
    "  print(i)"
   ]
  },
  {
   "cell_type": "markdown",
   "metadata": {},
   "source": [
    "`add()` an item"
   ]
  },
  {
   "cell_type": "code",
   "execution_count": null,
   "metadata": {},
   "outputs": [],
   "source": [
    "_set1.add('two')\n",
    "print(_set1)\n",
    "\n",
    "_set1.add('two')\n",
    "print(_set1)"
   ]
  },
  {
   "cell_type": "markdown",
   "metadata": {},
   "source": [
    "`remove()` an item"
   ]
  },
  {
   "cell_type": "code",
   "execution_count": null,
   "metadata": {},
   "outputs": [],
   "source": [
    "_set1.remove('nine')\n",
    "print(_set1)"
   ]
  },
  {
   "cell_type": "code",
   "execution_count": null,
   "metadata": {},
   "outputs": [],
   "source": [
    "_set1.add(1)\n",
    "print(_set1)"
   ]
  },
  {
   "cell_type": "code",
   "execution_count": null,
   "metadata": {},
   "outputs": [],
   "source": []
  },
  {
   "cell_type": "markdown",
   "metadata": {},
   "source": [
    "## Dictionary\n",
    "Unordered collection of key-value pairs"
   ]
  },
  {
   "cell_type": "code",
   "execution_count": null,
   "metadata": {},
   "outputs": [],
   "source": [
    "_dict1 = {'k1':'v1', 'k2':'v2'}\n",
    "print(_dict1)"
   ]
  },
  {
   "cell_type": "code",
   "execution_count": null,
   "metadata": {},
   "outputs": [],
   "source": [
    "_dict2 = dict(k1='v1', k2='v2')\n",
    "print(_dict2)"
   ]
  },
  {
   "cell_type": "markdown",
   "metadata": {},
   "source": [
    "You may maintain your information in two lists as follows:"
   ]
  },
  {
   "cell_type": "code",
   "execution_count": null,
   "metadata": {},
   "outputs": [],
   "source": [
    "_countries_list = ['Kenya', 'Rwanda', 'Uganda']\n",
    "_temperatures_list = [17, 19, 21]\n",
    "\n",
    "for i in range(len(_countries_list)):\n",
    "  print('country: {} temperature: {}'.format(_countries_list[i], _temperatures_list[i]))"
   ]
  },
  {
   "cell_type": "markdown",
   "metadata": {},
   "source": [
    "Or you may maintain the data in a dictionary"
   ]
  },
  {
   "cell_type": "code",
   "execution_count": null,
   "metadata": {},
   "outputs": [],
   "source": [
    "_countries_dict = {'Kenya': 17, 'Rwanda': 19, 'Uganda': 21}\n",
    "print(_countries_dict)"
   ]
  },
  {
   "cell_type": "markdown",
   "metadata": {},
   "source": [
    "print the value of `Kenya`"
   ]
  },
  {
   "cell_type": "code",
   "execution_count": null,
   "metadata": {},
   "outputs": [],
   "source": [
    "print(_countries_dict['Kenya'])"
   ]
  },
  {
   "cell_type": "markdown",
   "metadata": {},
   "source": [
    "use the `get()` method for similar effect"
   ]
  },
  {
   "cell_type": "code",
   "execution_count": null,
   "metadata": {},
   "outputs": [],
   "source": [
    "print(_countries_dict.get('Ghana', 0))"
   ]
  },
  {
   "cell_type": "code",
   "execution_count": null,
   "metadata": {},
   "outputs": [],
   "source": [
    "_kenya_temp = {'mon':11, 'tue':11, 'wed':13, 'thu':11, 'fri':12}\n",
    "_rwanda_temp = {'mon':10, 'tue':18, 'wed':17, 'thu':17, 'fri':10}\n",
    "_uganda_temp = {'mon':19, 'tue':18, 'wed':19, 'thu':17, 'fri':18}\n",
    "_countries_2_dict = {'Kenya': _kenya_temp, 'Rwanda': _rwanda_temp, 'Uganda': _uganda_temp}\n",
    "print(_countries_2_dict)"
   ]
  },
  {
   "cell_type": "markdown",
   "metadata": {},
   "source": [
    "The dictionary contains daily temperatures for three different countries, but it's a bit hard to read because we are used to Excel sheets."
   ]
  },
  {
   "cell_type": "code",
   "execution_count": null,
   "metadata": {},
   "outputs": [],
   "source": [
    "_countries = ['Kenya', 'Rwanda', 'Uganda']\n",
    "_temps = [17, 14, 21]\n",
    "\n",
    "_countries_dict = {}\n",
    "\n",
    "for i in range(len(_countries)):\n",
    "  _countries_dict[_countries[i]] = _temps[i]\n",
    "print(_countries_dict)"
   ]
  },
  {
   "cell_type": "markdown",
   "metadata": {},
   "source": [
    "Update the value of `Kenya`"
   ]
  },
  {
   "cell_type": "code",
   "execution_count": null,
   "metadata": {},
   "outputs": [],
   "source": [
    "_countries_dict['Kenya'] = 18\n",
    "print(_countries_dict)"
   ]
  },
  {
   "cell_type": "markdown",
   "metadata": {},
   "source": [
    "try looping over a dictionary"
   ]
  },
  {
   "cell_type": "code",
   "execution_count": null,
   "metadata": {},
   "outputs": [],
   "source": [
    "for i in _countries_dict:\n",
    "  print(i)"
   ]
  },
  {
   "cell_type": "markdown",
   "metadata": {},
   "source": [
    "iterate over keys and values"
   ]
  },
  {
   "cell_type": "code",
   "execution_count": null,
   "metadata": {},
   "outputs": [],
   "source": [
    "for _, v in _countries_dict.items():\n",
    "  print('value: {}'.format(v))"
   ]
  },
  {
   "cell_type": "markdown",
   "metadata": {},
   "source": [
    "how many elements does the dictionary contain?"
   ]
  },
  {
   "cell_type": "code",
   "execution_count": null,
   "metadata": {},
   "outputs": [],
   "source": [
    "print(len(_countries_dict))"
   ]
  },
  {
   "cell_type": "markdown",
   "metadata": {},
   "source": [
    "how do we add an item to the dictionary?"
   ]
  },
  {
   "cell_type": "code",
   "execution_count": null,
   "metadata": {},
   "outputs": [],
   "source": []
  },
  {
   "cell_type": "markdown",
   "metadata": {},
   "source": [
    "how do we remove an item?"
   ]
  },
  {
   "cell_type": "code",
   "execution_count": null,
   "metadata": {},
   "outputs": [],
   "source": [
    "_ = _countries_dict.pop('Uganda')\n",
    "print(_countries_dict)"
   ]
  },
  {
   "cell_type": "markdown",
   "metadata": {},
   "source": [
    "how do we `copy()` ?"
   ]
  },
  {
   "cell_type": "code",
   "execution_count": null,
   "metadata": {},
   "outputs": [],
   "source": []
  },
  {
   "cell_type": "markdown",
   "metadata": {},
   "source": [
    "can dictionaries contain other dictionaries?"
   ]
  },
  {
   "cell_type": "code",
   "execution_count": null,
   "metadata": {},
   "outputs": [],
   "source": []
  },
  {
   "cell_type": "markdown",
   "metadata": {},
   "source": [
    "what does `get()` do?"
   ]
  },
  {
   "cell_type": "code",
   "execution_count": null,
   "metadata": {},
   "outputs": [],
   "source": []
  },
  {
   "cell_type": "markdown",
   "metadata": {},
   "source": [
    "##Moving in lock-step"
   ]
  },
  {
   "cell_type": "code",
   "execution_count": null,
   "metadata": {},
   "outputs": [],
   "source": [
    "_countries = ['Kenya', 'Rwanda', 'Uganda']\n",
    "_temps = [17, 14, 21]\n",
    "\n",
    "_countries_dict = {}\n",
    "\n",
    "for i in range(len(_countries)):\n",
    "  _countries_dict[_countries[i]] = _temps[i]\n",
    "print(_countries_dict)"
   ]
  },
  {
   "cell_type": "code",
   "execution_count": null,
   "metadata": {},
   "outputs": [],
   "source": [
    "_countries_dict = {}\n",
    "for k, v in zip(_countries, _temps):\n",
    "  print(k, v)\n",
    "  _countries_dict[k] = v"
   ]
  },
  {
   "cell_type": "code",
   "execution_count": null,
   "metadata": {},
   "outputs": [],
   "source": [
    "my_zip = zip(_countries, _temps)\n",
    "print(*zip(_countries, _temps))"
   ]
  },
  {
   "cell_type": "code",
   "execution_count": null,
   "metadata": {},
   "outputs": [],
   "source": [
    "Operations on Lists"
   ]
  },
  {
   "cell_type": "code",
   "execution_count": null,
   "metadata": {},
   "outputs": [],
   "source": [
    "print(_temps)"
   ]
  },
  {
   "cell_type": "markdown",
   "metadata": {},
   "source": [
    "convert our temps to fahrenheit (*9/5 + 32)"
   ]
  },
  {
   "cell_type": "code",
   "execution_count": null,
   "metadata": {},
   "outputs": [],
   "source": [
    "use a loop\n",
    "f_temp = []\n",
    "for temp in _temps:\n",
    "  f = temp * 9/5 + 32\n",
    "  f_temp.append(f)\n",
    "  \n",
    "print(f_temp)"
   ]
  },
  {
   "cell_type": "markdown",
   "metadata": {},
   "source": [
    "Use a map()"
   ]
  },
  {
   "cell_type": "code",
   "execution_count": null,
   "metadata": {},
   "outputs": [],
   "source": [
    "_fah = map(lambda x: x * 9 / 5 + 32, _temps)\n",
    "print(_fah)\n",
    "print(list(_fah))"
   ]
  },
  {
   "cell_type": "markdown",
   "metadata": {},
   "source": [
    "## Comprehensions"
   ]
  },
  {
   "cell_type": "markdown",
   "metadata": {},
   "source": [
    "How do we convert a dictionary into a list?\n",
    "\n",
    "'Kenya = 17'"
   ]
  },
  {
   "cell_type": "code",
   "execution_count": null,
   "metadata": {},
   "outputs": [],
   "source": [
    "for k, v in _countries_dict.items():\n",
    "  print('{} = {}'.format(k, v))"
   ]
  },
  {
   "cell_type": "code",
   "execution_count": null,
   "metadata": {},
   "outputs": [],
   "source": [
    "my_list = map(lambda x, y: '{} = {}'.format(x, y), _countries_dict.keys(), _countries_dict.values())\n",
    "print(list(my_list))"
   ]
  },
  {
   "cell_type": "code",
   "execution_count": null,
   "metadata": {},
   "outputs": [],
   "source": [
    "print(_countries_dict.items())"
   ]
  },
  {
   "cell_type": "code",
   "execution_count": null,
   "metadata": {},
   "outputs": [],
   "source": [
    "my_list = ['{} = {}'.format(k, v) for k, v in _countries_dict.items()]\n",
    "print(my_list)"
   ]
  },
  {
   "cell_type": "markdown",
   "metadata": {},
   "source": [
    "How do we convert a list into a dictionary?"
   ]
  },
  {
   "cell_type": "code",
   "execution_count": null,
   "metadata": {},
   "outputs": [],
   "source": [
    "for i in _countries:\n",
    "  print(i, len(i))"
   ]
  },
  {
   "cell_type": "code",
   "execution_count": null,
   "metadata": {},
   "outputs": [],
   "source": [
    "print(_countries)\n",
    "my_dict = {i:len(i) for i in _countries}\n",
    "print(my_dict)"
   ]
  },
  {
   "cell_type": "markdown",
   "metadata": {},
   "source": [
    "Can we nest ranges?"
   ]
  },
  {
   "cell_type": "code",
   "execution_count": null,
   "metadata": {},
   "outputs": [],
   "source": [
    "for week in range(1,3):\n",
    "  for day in ['mon', 'tue', 'wed', 'thu', 'fri']:\n",
    "    for hour in range(24):\n",
    "      print('week {} : {} : {}'.format(week, day, hour))\n",
    "weeks_and_days = [('week {}'.format(week), day, hour) for week in range (1,3) for day in ['mon', 'tue', 'wed', 'thu', 'fri'] for hour in range(24)]\n",
    "print(weeks_and_days)"
   ]
  },
  {
   "cell_type": "markdown",
   "metadata": {},
   "source": [
    "How about conditionals?"
   ]
  },
  {
   "cell_type": "code",
   "execution_count": null,
   "metadata": {},
   "outputs": [],
   "source": [
    "div_by_7 = [n ** n for n in range(100) if (n ** n) % 7 == 0]\n",
    "print(div_by_7)"
   ]
  },
  {
   "cell_type": "markdown",
   "metadata": {},
   "source": [
    "## Iterators\n",
    "Objects that contain a countable number of items"
   ]
  },
  {
   "cell_type": "code",
   "execution_count": null,
   "metadata": {},
   "outputs": [],
   "source": [
    "_l = ['one', 'two', 'three', 'four', 'five']\n",
    "print(next(_l))"
   ]
  },
  {
   "cell_type": "code",
   "execution_count": null,
   "metadata": {},
   "outputs": [],
   "source": [
    "_list1 = ['one', 'two', 'three', 'four', 'five']\n",
    "myIter = iter(_list1)"
   ]
  },
  {
   "cell_type": "code",
   "execution_count": null,
   "metadata": {},
   "outputs": [],
   "source": [
    "print(next(myIter))"
   ]
  },
  {
   "cell_type": "markdown",
   "metadata": {},
   "source": [
    "lists, dictionaries and sets are iterables that yield iterators. Can we create a class that behaves the same way?"
   ]
  },
  {
   "cell_type": "code",
   "execution_count": null,
   "metadata": {},
   "outputs": [],
   "source": [
    "class MyIterable:\n",
    "  def __iter__(self):\n",
    "    self.value = 2\n",
    "    return self\n",
    "  \n",
    "  def __next__(self):\n",
    "    x = self.value\n",
    "    self.value *= 2\n",
    "    return x"
   ]
  },
  {
   "cell_type": "code",
   "execution_count": null,
   "metadata": {},
   "outputs": [],
   "source": [
    "_myIterable = MyIterable()\n",
    "_myIterator = iter(_myIterable)"
   ]
  },
  {
   "cell_type": "code",
   "execution_count": null,
   "metadata": {},
   "outputs": [],
   "source": [
    "print(next(_myIterator))\n",
    "print(next(_myIterator))\n",
    "print(next(_myIterator))\n",
    "print(next(_myIterator))\n",
    "print(next(_myIterator))"
   ]
  },
  {
   "cell_type": "code",
   "execution_count": null,
   "metadata": {},
   "outputs": [],
   "source": [
    "## Generators"
   ]
  },
  {
   "cell_type": "code",
   "execution_count": null,
   "metadata": {},
   "outputs": [],
   "source": [
    "def _doubles(n):\n",
    "  b = []\n",
    "  a = 2\n",
    "  while a < n:\n",
    "    b.append(a)\n",
    "    a *= 2\n",
    "  return b"
   ]
  },
  {
   "cell_type": "code",
   "execution_count": null,
   "metadata": {},
   "outputs": [],
   "source": [
    "print(sum(_doubles(60)))"
   ]
  },
  {
   "cell_type": "code",
   "execution_count": null,
   "metadata": {},
   "outputs": [],
   "source": [
    "def _my_doubles(n):\n",
    "  a = 2\n",
    "  while a < n:\n",
    "    yield a\n",
    "    a *= 2"
   ]
  },
  {
   "cell_type": "code",
   "execution_count": null,
   "metadata": {},
   "outputs": [],
   "source": [
    "a = _my_doubles(60)"
   ]
  },
  {
   "cell_type": "code",
   "execution_count": null,
   "metadata": {},
   "outputs": [],
   "source": [
    "print(type(a))\n",
    "print(a)\n",
    "print(next(a))\n",
    "print(sum(a))\n",
    "print(*a)"
   ]
  },
  {
   "cell_type": "code",
   "execution_count": null,
   "metadata": {},
   "outputs": [],
   "source": [
    "for item in a:\n",
    "  print(item)"
   ]
  },
  {
   "cell_type": "code",
   "execution_count": null,
   "metadata": {},
   "outputs": [],
   "source": [
    "weeks_and_days = [('week {}'.format(week), day, hour) for week in range (1,3) for day in ['mon', 'tue', 'wed', 'thu', 'fri'] for hour in range(24)]\n",
    "print(weeks_and_days)"
   ]
  },
  {
   "cell_type": "code",
   "execution_count": null,
   "metadata": {},
   "outputs": [],
   "source": [
    "weeks_and_days = ( ('week {}'.format(week), day, hour) for week in range (1,3) for day in ['mon', 'tue', 'wed', 'thu', 'fri'] for hour in range(24) )\n",
    "print(weeks_and_days)"
   ]
  },
  {
   "cell_type": "code",
   "execution_count": null,
   "metadata": {},
   "outputs": [],
   "source": [
    "print(next(weeks_and_days))"
   ]
  },
  {
   "cell_type": "code",
   "execution_count": null,
   "metadata": {},
   "outputs": [],
   "source": [
    "for item in weeks_and_days:\n",
    "  print(item)"
   ]
  },
  {
   "cell_type": "code",
   "execution_count": null,
   "metadata": {},
   "outputs": [],
   "source": [
    "n = 6\n",
    "for i in range (1, n):\n",
    "  print(2 ** i)"
   ]
  },
  {
   "cell_type": "code",
   "execution_count": null,
   "metadata": {},
   "outputs": [],
   "source": [
    "_list = [2 ** i for i in range(1,6)]\n",
    "print(_list)"
   ]
  },
  {
   "cell_type": "code",
   "execution_count": null,
   "metadata": {},
   "outputs": [],
   "source": [
    "_gen = (2 ** i for i in range(1, 6))\n",
    "print(*_gen)"
   ]
  },
  {
   "cell_type": "code",
   "execution_count": null,
   "metadata": {},
   "outputs": [],
   "source": []
  },
  {
   "cell_type": "markdown",
   "metadata": {},
   "source": [
    "**We have worked with pure Python thus far, but let's import some libraries and do some more"
   ]
  },
  {
   "cell_type": "code",
   "execution_count": null,
   "metadata": {},
   "outputs": [],
   "source": [
    "import pandas as pd\n",
    "iris = pd.read_csv('https://archive.ics.uci.edu/ml/machine-learning-databases/iris/iris.data', header=None)\n",
    "iris_array = iris[[0, 1, 2, 3]].values\n",
    "import pandas as pd\n",
    "iris = pd.read_csv('https://archive.ics.uci.edu/ml/machine-learning-databases/iris/iris.data', header=None)\n",
    "iris_array = iris[[0, 1, 2, 3]].values"
   ]
  },
  {
   "cell_type": "code",
   "execution_count": null,
   "metadata": {},
   "outputs": [],
   "source": [
    "## Numpy"
   ]
  },
  {
   "cell_type": "markdown",
   "metadata": {},
   "source": [
    "Compute the areas of some rectangles"
   ]
  },
  {
   "cell_type": "code",
   "execution_count": null,
   "metadata": {},
   "outputs": [],
   "source": [
    "_lengths = [5, 4, 8, 3, 9]\n",
    "_breadths = [10, 11, 29, 24, 32]\n",
    "_areas = []\n"
   ]
  },
  {
   "cell_type": "code",
   "execution_count": null,
   "metadata": {},
   "outputs": [],
   "source": [
    "for i, j in zip(_lengths, _breadths):\n",
    "  _areas.append(i * j)\n",
    "print(_areas)"
   ]
  },
  {
   "cell_type": "code",
   "execution_count": null,
   "metadata": {},
   "outputs": [],
   "source": [
    "_areas = map(lambda l, b: l * b, _lengths, _breadths)\n",
    "print(list(_areas))"
   ]
  },
  {
   "cell_type": "markdown",
   "metadata": {},
   "source": [
    "That was easy, so lets perform other mathematical operations:\n",
    "\n",
    "* find maximum values\n",
    "* find minimum values\n",
    "* sum up the values\n",
    "* etc"
   ]
  },
  {
   "cell_type": "code",
   "execution_count": null,
   "metadata": {},
   "outputs": [],
   "source": [
    "import numpy as np"
   ]
  },
  {
   "cell_type": "code",
   "execution_count": null,
   "metadata": {},
   "outputs": [],
   "source": [
    "print(_lengths)\n",
    "_l_array = np.asarray(_lengths)\n",
    "print(_l_array)\n",
    "_b_array = np.asarray(_breadths)\n",
    "_areas_array = _l_array * _b_array\n",
    "print(_areas_array)"
   ]
  },
  {
   "cell_type": "markdown",
   "metadata": {},
   "source": [
    "check length"
   ]
  },
  {
   "cell_type": "code",
   "execution_count": null,
   "metadata": {},
   "outputs": [],
   "source": [
    "print(len(_areas_array))"
   ]
  },
  {
   "cell_type": "markdown",
   "metadata": {},
   "source": [
    "print value at an index"
   ]
  },
  {
   "cell_type": "code",
   "execution_count": null,
   "metadata": {},
   "outputs": [],
   "source": [
    "print(_areas_array[0])"
   ]
  },
  {
   "cell_type": "code",
   "execution_count": null,
   "metadata": {},
   "outputs": [],
   "source": [
    "print(_areas_array[1])"
   ]
  },
  {
   "cell_type": "markdown",
   "metadata": {},
   "source": [
    "Perform comparisons"
   ]
  },
  {
   "cell_type": "code",
   "execution_count": null,
   "metadata": {},
   "outputs": [],
   "source": [
    "print(_areas_array > 100)"
   ]
  },
  {
   "cell_type": "markdown",
   "metadata": {},
   "source": [
    "2D Array"
   ]
  },
  {
   "cell_type": "code",
   "execution_count": null,
   "metadata": {},
   "outputs": [],
   "source": [
    "_boxes = np.array([_lengths, _breadths])\n",
    "print(_boxes)\n",
    "print(_boxes.shape)"
   ]
  },
  {
   "cell_type": "markdown",
   "metadata": {},
   "source": [
    "Can we subset?"
   ]
  },
  {
   "cell_type": "markdown",
   "metadata": {},
   "source": [
    "Print 1st row"
   ]
  },
  {
   "cell_type": "code",
   "execution_count": null,
   "metadata": {},
   "outputs": [],
   "source": [
    "print(_boxes[0])"
   ]
  },
  {
   "cell_type": "markdown",
   "metadata": {},
   "source": [
    "Print 2nd row"
   ]
  },
  {
   "cell_type": "code",
   "execution_count": null,
   "metadata": {},
   "outputs": [],
   "source": [
    "print(_boxes[1])"
   ]
  },
  {
   "cell_type": "markdown",
   "metadata": {},
   "source": [
    "Print 1st item in 2nd row"
   ]
  },
  {
   "cell_type": "code",
   "execution_count": null,
   "metadata": {},
   "outputs": [],
   "source": [
    "print(_boxes[1][0])"
   ]
  },
  {
   "cell_type": "markdown",
   "metadata": {},
   "source": [
    "### working with iris_array"
   ]
  },
  {
   "cell_type": "markdown",
   "metadata": {},
   "source": [
    "print top 3 rows"
   ]
  },
  {
   "cell_type": "code",
   "execution_count": null,
   "metadata": {},
   "outputs": [],
   "source": [
    "print(iris_array[:6])\n",
    "print(iris_array[2].shape)"
   ]
  },
  {
   "cell_type": "markdown",
   "metadata": {},
   "source": [
    "print mean of all values in column 0"
   ]
  },
  {
   "cell_type": "code",
   "execution_count": null,
   "metadata": {},
   "outputs": [],
   "source": [
    "# get one column (you need to specify all the rows)\n",
    "print(iris_array[:3][0])\n",
    "print(iris_array[2])"
   ]
  },
  {
   "cell_type": "code",
   "execution_count": null,
   "metadata": {},
   "outputs": [],
   "source": [
    "print(np.mean(iris_array[0:,0]))"
   ]
  },
  {
   "cell_type": "markdown",
   "metadata": {},
   "source": [
    "median"
   ]
  },
  {
   "cell_type": "code",
   "execution_count": null,
   "metadata": {},
   "outputs": [],
   "source": [
    "print(np.median(iris_array[:, 0]))"
   ]
  },
  {
   "cell_type": "markdown",
   "metadata": {},
   "source": [
    "standard deviation"
   ]
  },
  {
   "cell_type": "code",
   "execution_count": null,
   "metadata": {},
   "outputs": [],
   "source": [
    "print(np.std(iris_array[:, 0]))"
   ]
  },
  {
   "cell_type": "markdown",
   "metadata": {},
   "source": [
    "correlation coefficient"
   ]
  },
  {
   "cell_type": "code",
   "execution_count": null,
   "metadata": {},
   "outputs": [],
   "source": [
    "print(np.corrcoef(iris_array[0], iris_array[1]))"
   ]
  },
  {
   "cell_type": "markdown",
   "metadata": {},
   "source": [
    "sum"
   ]
  },
  {
   "cell_type": "code",
   "execution_count": null,
   "metadata": {},
   "outputs": [],
   "source": []
  },
  {
   "cell_type": "markdown",
   "metadata": {},
   "source": [
    "Generate some data"
   ]
  },
  {
   "cell_type": "code",
   "execution_count": null,
   "metadata": {},
   "outputs": [],
   "source": [
    "heights = np.random.normal(1.6, 0.1, 5000)\n",
    "weights = np.random.normal(65, 15, 5000)\n",
    "print(weights[:2])\n",
    "print(heights[:2])"
   ]
  },
  {
   "cell_type": "markdown",
   "metadata": {},
   "source": [
    "truncate to 2 decimal places"
   ]
  },
  {
   "cell_type": "code",
   "execution_count": null,
   "metadata": {},
   "outputs": [],
   "source": [
    "heights = np.round(heights, 2)\n",
    "weights = np.round(weights, 2)"
   ]
  },
  {
   "cell_type": "markdown",
   "metadata": {},
   "source": [
    "make a 2D array"
   ]
  },
  {
   "cell_type": "code",
   "execution_count": null,
   "metadata": {},
   "outputs": [],
   "source": [
    "persons = np.column_stack( (heights, weights) )\n",
    "print(persons[:5])"
   ]
  },
  {
   "cell_type": "markdown",
   "metadata": {},
   "source": [
    "## Plotting"
   ]
  },
  {
   "cell_type": "code",
   "execution_count": null,
   "metadata": {},
   "outputs": [],
   "source": [
    "import matplotlib.pyplot as plt\n",
    "%matplotlib inline"
   ]
  },
  {
   "cell_type": "code",
   "execution_count": null,
   "metadata": {},
   "outputs": [],
   "source": [
    "year = [1990, 1991, 1992, 1993, 1994, 1995, 1996, 1997, 1998, 1999, 2000]\n",
    "pop = [7.24, 7.05, 6.70, 6.30, 6.01, 5.93, 6.12, 6.52, 7.06, 7.59, 8.03]\n",
    "year = np.asarray(year)\n",
    "pop = np.asarray(pop)"
   ]
  },
  {
   "cell_type": "markdown",
   "metadata": {},
   "source": [
    "Can we plot a time series?"
   ]
  },
  {
   "cell_type": "code",
   "execution_count": null,
   "metadata": {},
   "outputs": [],
   "source": [
    "plt.plot(year, pop)\n",
    "plt.show()"
   ]
  },
  {
   "cell_type": "markdown",
   "metadata": {},
   "source": [
    "Let's add axis labels"
   ]
  },
  {
   "cell_type": "code",
   "execution_count": null,
   "metadata": {},
   "outputs": [],
   "source": [
    "plt.plot(year, pop)\n",
    "plt.xlabel('Year')\n",
    "plt.ylabel('Population (M)')\n"
   ]
  },
  {
   "cell_type": "code",
   "execution_count": null,
   "metadata": {},
   "outputs": [],
   "source": [
    "# Give the chart a label\n",
    "plt.title('Population for Country X')\n",
    "\n",
    "# Control the numbers shown on the vertical axis\n",
    "plt.yticks([0, 2, 4, 6, 8, 10], ['0', '2M', '4M', '6M', '8M', '10M'])\n",
    "plt.show()"
   ]
  },
  {
   "cell_type": "markdown",
   "metadata": {},
   "source": [
    "Can we plot a scatter diagram?"
   ]
  },
  {
   "cell_type": "code",
   "execution_count": null,
   "metadata": {},
   "outputs": [],
   "source": [
    "plt.scatter(year, pop)"
   ]
  },
  {
   "cell_type": "markdown",
   "metadata": {},
   "source": [
    "can we plot a histogram?"
   ]
  },
  {
   "cell_type": "code",
   "execution_count": null,
   "metadata": {},
   "outputs": [],
   "source": [
    "plt.hist(iris_array[:,0], bins=5)\n",
    "plt.show()"
   ]
  },
  {
   "cell_type": "markdown",
   "metadata": {},
   "source": [
    "## Pandas"
   ]
  },
  {
   "cell_type": "code",
   "execution_count": null,
   "metadata": {},
   "outputs": [],
   "source": [
    "import pandas as pd"
   ]
  },
  {
   "cell_type": "markdown",
   "metadata": {},
   "source": [
    "Recall our dictionary"
   ]
  },
  {
   "cell_type": "code",
   "execution_count": null,
   "metadata": {},
   "outputs": [],
   "source": [
    "_countries_list = ['Kenya', 'Rwanda', 'Uganda']\n",
    "_temperatures_list = [17, 19, 21]"
   ]
  },
  {
   "cell_type": "code",
   "execution_count": null,
   "metadata": {},
   "outputs": [],
   "source": [
    "for i in range(len(_countries_list)):\n",
    "  print('country: {} temperature: {}'.format(_countries_list[i], _temperatures_list[i]))\n",
    "for k, v in zip(_countries_list, _temperatures_list):\n",
    "  print(k,v)\n",
    "_dict = dict(country=_countries_list, temperature=_temperatures_list)\n",
    "print(_dict)"
   ]
  },
  {
   "cell_type": "code",
   "execution_count": null,
   "metadata": {},
   "outputs": [],
   "source": [
    "_df = pd.DataFrame(_dict)\n",
    "print(_df)"
   ]
  },
  {
   "cell_type": "code",
   "execution_count": null,
   "metadata": {},
   "outputs": [],
   "source": [
    "_countries_dict = {'Kenya': 17, 'Rwanda': 19, 'Uganda': 21}\n",
    "print(_countries_dict)"
   ]
  },
  {
   "cell_type": "markdown",
   "metadata": {},
   "source": [
    "Can we see the same information as a table?"
   ]
  },
  {
   "cell_type": "code",
   "execution_count": null,
   "metadata": {},
   "outputs": [],
   "source": [
    "_countries_1 = {'Country': _countries_list, 'Temperature': _temperatures_list}\n",
    "print(_countries_1)\n",
    "_countries_2 = pd.DataFrame(_countries_1)"
   ]
  },
  {
   "cell_type": "markdown",
   "metadata": {},
   "source": [
    "Let's see the top n"
   ]
  },
  {
   "cell_type": "code",
   "execution_count": null,
   "metadata": {},
   "outputs": [],
   "source": [
    "_countries_2.head()"
   ]
  },
  {
   "cell_type": "code",
   "execution_count": null,
   "metadata": {},
   "outputs": [],
   "source": [
    "print(type(_countries_2))"
   ]
  },
  {
   "cell_type": "markdown",
   "metadata": {},
   "source": [
    "Let's add indexes"
   ]
  },
  {
   "cell_type": "code",
   "execution_count": null,
   "metadata": {},
   "outputs": [],
   "source": [
    "_countries_2.index = ['KE', 'RW', 'UG']"
   ]
  },
  {
   "cell_type": "markdown",
   "metadata": {},
   "source": [
    "View the DataFrame Again"
   ]
  },
  {
   "cell_type": "code",
   "execution_count": null,
   "metadata": {},
   "outputs": [],
   "source": [
    "_countries_2"
   ]
  },
  {
   "cell_type": "code",
   "execution_count": null,
   "metadata": {},
   "outputs": [],
   "source": [
    "Fetch more data to work with"
   ]
  },
  {
   "cell_type": "code",
   "execution_count": null,
   "metadata": {},
   "outputs": [],
   "source": [
    "from google.colab import drive\n",
    "drive.mount('/content/gdrive')\n",
    "df = pd.read_csv('./gapminder/population_total.csv')\n",
    "_iris = pd.read_csv('https://archive.ics.uci.edu/ml/machine-learning-databases/iris/iris.data', header=None)"
   ]
  },
  {
   "cell_type": "markdown",
   "metadata": {},
   "source": [
    "How many columns are in this data?"
   ]
  },
  {
   "cell_type": "code",
   "execution_count": null,
   "metadata": {},
   "outputs": [],
   "source": [
    "_iris.info()"
   ]
  },
  {
   "cell_type": "code",
   "execution_count": null,
   "metadata": {},
   "outputs": [],
   "source": [
    "_iris.head()"
   ]
  },
  {
   "cell_type": "code",
   "execution_count": null,
   "metadata": {},
   "outputs": [],
   "source": [
    "df.info(verbose=True)"
   ]
  },
  {
   "cell_type": "code",
   "execution_count": null,
   "metadata": {},
   "outputs": [],
   "source": [
    "df.head()"
   ]
  },
  {
   "cell_type": "markdown",
   "metadata": {},
   "source": [
    "How many rows are in this data?"
   ]
  },
  {
   "cell_type": "code",
   "execution_count": null,
   "metadata": {},
   "outputs": [],
   "source": []
  },
  {
   "cell_type": "markdown",
   "metadata": {},
   "source": [
    "Perform summary statistics"
   ]
  },
  {
   "cell_type": "code",
   "execution_count": null,
   "metadata": {},
   "outputs": [],
   "source": [
    "iris.describe()"
   ]
  },
  {
   "cell_type": "markdown",
   "metadata": {},
   "source": [
    "Show data for the year 2000"
   ]
  },
  {
   "cell_type": "code",
   "execution_count": null,
   "metadata": {},
   "outputs": [],
   "source": [
    "df_2000 = df[['country', '2000']]\n",
    "df_2000.head()"
   ]
  },
  {
   "cell_type": "markdown",
   "metadata": {},
   "source": [
    "Show data for 1990 and 2000"
   ]
  },
  {
   "cell_type": "code",
   "execution_count": null,
   "metadata": {},
   "outputs": [],
   "source": [
    "df[['country', '1990', '2000']].head()"
   ]
  },
  {
   "cell_type": "markdown",
   "metadata": {},
   "source": [
    "Show data from rows 10 to 15"
   ]
  },
  {
   "cell_type": "code",
   "execution_count": null,
   "metadata": {},
   "outputs": [],
   "source": [
    "df[10:15]"
   ]
  },
  {
   "cell_type": "markdown",
   "metadata": {},
   "source": [
    "Extract the following columns into a new DataFrame\n",
    "\n",
    "* country\n",
    "* 1980\n",
    "* 1990\n",
    "* 2000"
   ]
  },
  {
   "cell_type": "code",
   "execution_count": null,
   "metadata": {},
   "outputs": [],
   "source": [
    "new_df = df[['country', '1980', '1990', '2000']]"
   ]
  },
  {
   "cell_type": "markdown",
   "metadata": {},
   "source": [
    "show the new DataFrame"
   ]
  },
  {
   "cell_type": "code",
   "execution_count": null,
   "metadata": {},
   "outputs": [],
   "source": [
    "new_df.head()"
   ]
  },
  {
   "cell_type": "markdown",
   "metadata": {},
   "source": [
    "Set the country as the index"
   ]
  },
  {
   "cell_type": "code",
   "execution_count": null,
   "metadata": {},
   "outputs": [],
   "source": [
    "new_df.set_index(['country'], inplace=True)\n",
    "new_df.head()"
   ]
  },
  {
   "cell_type": "markdown",
   "metadata": {},
   "source": [
    "show 1980 data for Angola"
   ]
  },
  {
   "cell_type": "code",
   "execution_count": null,
   "metadata": {},
   "outputs": [],
   "source": [
    "new_df.loc[['Angola'], ['1980']]"
   ]
  },
  {
   "cell_type": "code",
   "execution_count": null,
   "metadata": {},
   "outputs": [],
   "source": [
    "new_df.loc[['Angola', 'Zimbabwe'], ['1980', '2000']]"
   ]
  },
  {
   "cell_type": "markdown",
   "metadata": {},
   "source": [
    "Let's apply a filter"
   ]
  },
  {
   "cell_type": "code",
   "execution_count": null,
   "metadata": {},
   "outputs": [],
   "source": [
    "print(type(new_df[['1980']]))"
   ]
  },
  {
   "cell_type": "code",
   "execution_count": null,
   "metadata": {},
   "outputs": [],
   "source": [
    "new_df[['1980']].head()"
   ]
  },
  {
   "cell_type": "code",
   "execution_count": null,
   "metadata": {},
   "outputs": [],
   "source": [
    "print(type(new_df['1980']))"
   ]
  },
  {
   "cell_type": "code",
   "execution_count": null,
   "metadata": {},
   "outputs": [],
   "source": [
    "print(new_df['1980'].values)"
   ]
  },
  {
   "cell_type": "code",
   "execution_count": null,
   "metadata": {},
   "outputs": [],
   "source": [
    "new_df['1980'] > 8000000"
   ]
  },
  {
   "cell_type": "code",
   "execution_count": null,
   "metadata": {},
   "outputs": [],
   "source": [
    "my_filter = new_df['1980'] > 8000000"
   ]
  },
  {
   "cell_type": "code",
   "execution_count": null,
   "metadata": {},
   "outputs": [],
   "source": [
    "new_df[my_filter]"
   ]
  },
  {
   "cell_type": "markdown",
   "metadata": {},
   "source": [
    "Let's combine filters"
   ]
  },
  {
   "cell_type": "code",
   "execution_count": null,
   "metadata": {},
   "outputs": [],
   "source": [
    "new_df[np.logical_and(new_df['1980'] > 7000000, new_df['1980'] < 8000000)]"
   ]
  }
 ],
 "metadata": {
  "colab": {
   "collapsed_sections": [],
   "name": "AMMI_Day_1.ipynb",
   "provenance": []
  },
  "kernelspec": {
   "display_name": "Python 3",
   "language": "python",
   "name": "python3"
  },
  "language_info": {
   "codemirror_mode": {
    "name": "ipython",
    "version": 3
   },
   "file_extension": ".py",
   "mimetype": "text/x-python",
   "name": "python",
   "nbconvert_exporter": "python",
   "pygments_lexer": "ipython3",
   "version": "3.7.4"
  }
 },
 "nbformat": 4,
 "nbformat_minor": 1
}
